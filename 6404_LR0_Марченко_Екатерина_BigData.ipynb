{
 "cells": [
  {
   "cell_type": "markdown",
   "metadata": {
    "id": "82OvPKEiEqjc"
   },
   "source": [
    "# Введение в MapReduce модель на Python\n"
   ]
  },
  {
   "cell_type": "code",
   "execution_count": 1,
   "metadata": {
    "ExecuteTime": {
     "end_time": "2024-03-20T20:55:54.676449Z",
     "start_time": "2024-03-20T20:55:54.661448Z"
    },
    "id": "JQ2cvXLjICmI"
   },
   "outputs": [],
   "source": [
    "from typing import NamedTuple # requires python 3.6+\n",
    "from typing import Iterator\n"
   ]
  },
  {
   "cell_type": "code",
   "execution_count": 2,
   "metadata": {
    "ExecuteTime": {
     "end_time": "2024-03-20T20:55:55.185985Z",
     "start_time": "2024-03-20T20:55:55.177988Z"
    },
    "id": "yjPHumVwEyEg"
   },
   "outputs": [],
   "source": [
    "def MAP(_, row:NamedTuple):\n",
    "  if (row.gender == 'female'):\n",
    "    yield (row.age, row)\n",
    "\n",
    "def REDUCE(age:str, rows:Iterator[NamedTuple]):\n",
    "  sum = 0\n",
    "  count = 0\n",
    "  for row in rows:\n",
    "    sum += row.social_contacts\n",
    "    count += 1\n",
    "  if (count > 0):\n",
    "    yield (age, sum/count)\n",
    "  else:\n",
    "    yield (age, 0)"
   ]
  },
  {
   "cell_type": "markdown",
   "metadata": {
    "id": "vBKMgpG_ilaZ"
   },
   "source": [
    "Модель элемента данных"
   ]
  },
  {
   "cell_type": "code",
   "execution_count": 3,
   "metadata": {
    "ExecuteTime": {
     "end_time": "2024-03-20T20:55:55.345987Z",
     "start_time": "2024-03-20T20:55:55.331988Z"
    },
    "id": "Rv-XIjhTJPx3"
   },
   "outputs": [],
   "source": [
    "class User(NamedTuple):\n",
    "  id: int\n",
    "  age: str\n",
    "  social_contacts: int\n",
    "  gender: str\n",
    "  \n",
    "  def __str__(self):\n",
    "        return f\"User(id={self.id}, age={self.age}, gender={self.gender}, social_contacts={self.social_contacts})\""
   ]
  },
  {
   "cell_type": "code",
   "execution_count": 4,
   "metadata": {
    "ExecuteTime": {
     "end_time": "2024-03-20T20:55:55.521986Z",
     "start_time": "2024-03-20T20:55:55.503989Z"
    },
    "id": "5KV0Ze2vQgu5"
   },
   "outputs": [],
   "source": [
    "input_collection = [\n",
    "    User(id=0, age=55, gender='male', social_contacts=20),\n",
    "    User(id=1, age=25, gender='female', social_contacts=240),\n",
    "    User(id=2, age=25, gender='female', social_contacts=500),\n",
    "    User(id=3, age=33, gender='female', social_contacts=800)\n",
    "]"
   ]
  },
  {
   "cell_type": "markdown",
   "metadata": {
    "id": "YFeqzyZxZIFZ"
   },
   "source": [
    "Функция RECORDREADER моделирует чтение элементов с диска или по сети."
   ]
  },
  {
   "cell_type": "code",
   "execution_count": 5,
   "metadata": {
    "ExecuteTime": {
     "end_time": "2024-03-20T20:55:55.697986Z",
     "start_time": "2024-03-20T20:55:55.678987Z"
    },
    "id": "S5HR4E_GQoMJ"
   },
   "outputs": [],
   "source": [
    "def RECORDREADER():\n",
    "  return [(u.id, u) for u in input_collection]"
   ]
  },
  {
   "cell_type": "code",
   "execution_count": 6,
   "metadata": {
    "ExecuteTime": {
     "end_time": "2024-03-20T20:55:55.743986Z",
     "start_time": "2024-03-20T20:55:55.727988Z"
    },
    "colab": {
     "base_uri": "https://localhost:8080/"
    },
    "id": "NeEoWla-ROUy",
    "outputId": "748fc3bc-6115-47be-b1f3-497804545efd"
   },
   "outputs": [
    {
     "data": {
      "text/plain": [
       "[(0, User(id=0, age=55, social_contacts=20, gender='male')),\n",
       " (1, User(id=1, age=25, social_contacts=240, gender='female')),\n",
       " (2, User(id=2, age=25, social_contacts=500, gender='female')),\n",
       " (3, User(id=3, age=33, social_contacts=800, gender='female'))]"
      ]
     },
     "execution_count": 6,
     "metadata": {},
     "output_type": "execute_result"
    }
   ],
   "source": [
    "list(RECORDREADER())"
   ]
  },
  {
   "cell_type": "code",
   "execution_count": 7,
   "metadata": {
    "ExecuteTime": {
     "end_time": "2024-03-20T20:55:55.838988Z",
     "start_time": "2024-03-20T20:55:55.822988Z"
    },
    "id": "YB8orgPSZs8M"
   },
   "outputs": [],
   "source": [
    "def flatten(nested_iterable):\n",
    "  for iterable in nested_iterable:\n",
    "    for element in iterable:\n",
    "      yield element"
   ]
  },
  {
   "cell_type": "code",
   "execution_count": 8,
   "metadata": {
    "ExecuteTime": {
     "end_time": "2024-03-20T20:55:55.854986Z",
     "start_time": "2024-03-20T20:55:55.845988Z"
    },
    "colab": {
     "base_uri": "https://localhost:8080/"
    },
    "id": "74oyvDLaRmd5",
    "outputId": "6a514f10-ef74-4c8e-9d8b-41cba63cec6b"
   },
   "outputs": [
    {
     "data": {
      "text/plain": [
       "[(25, User(id=1, age=25, social_contacts=240, gender='female')),\n",
       " (25, User(id=2, age=25, social_contacts=500, gender='female')),\n",
       " (33, User(id=3, age=33, social_contacts=800, gender='female'))]"
      ]
     },
     "execution_count": 8,
     "metadata": {},
     "output_type": "execute_result"
    }
   ],
   "source": [
    "map_output = flatten(map(lambda x: MAP(*x), RECORDREADER()))\n",
    "map_output = list(map_output) # materialize\n",
    "map_output"
   ]
  },
  {
   "cell_type": "code",
   "execution_count": 9,
   "metadata": {
    "ExecuteTime": {
     "end_time": "2024-03-20T20:55:55.885987Z",
     "start_time": "2024-03-20T20:55:55.878989Z"
    },
    "id": "8ncYDJ3-VzDn"
   },
   "outputs": [],
   "source": [
    "def groupbykey(iterable):\n",
    "  t = {}\n",
    "  for (k2, v2) in iterable:\n",
    "    t[k2] = t.get(k2, []) + [v2]\n",
    "  return t.items()"
   ]
  },
  {
   "cell_type": "code",
   "execution_count": 10,
   "metadata": {
    "ExecuteTime": {
     "end_time": "2024-03-20T20:55:55.996986Z",
     "start_time": "2024-03-20T20:55:55.976991Z"
    },
    "colab": {
     "base_uri": "https://localhost:8080/"
    },
    "id": "cKzY_6COWOA2",
    "outputId": "865f42df-a2da-4ba5-c61b-84cffce397e1"
   },
   "outputs": [
    {
     "data": {
      "text/plain": [
       "[(25,\n",
       "  [User(id=1, age=25, social_contacts=240, gender='female'),\n",
       "   User(id=2, age=25, social_contacts=500, gender='female')]),\n",
       " (33, [User(id=3, age=33, social_contacts=800, gender='female')])]"
      ]
     },
     "execution_count": 10,
     "metadata": {},
     "output_type": "execute_result"
    }
   ],
   "source": [
    "shuffle_output = groupbykey(map_output)\n",
    "shuffle_output = list(shuffle_output)\n",
    "shuffle_output"
   ]
  },
  {
   "cell_type": "code",
   "execution_count": 11,
   "metadata": {
    "ExecuteTime": {
     "end_time": "2024-03-20T20:55:56.107989Z",
     "start_time": "2024-03-20T20:55:56.091990Z"
    },
    "colab": {
     "base_uri": "https://localhost:8080/"
    },
    "id": "NlA7lkDDYL0t",
    "outputId": "16c35daa-2607-4079-eeab-ce2ddb39f6ea"
   },
   "outputs": [
    {
     "data": {
      "text/plain": [
       "[(25, 370.0), (33, 800.0)]"
      ]
     },
     "execution_count": 11,
     "metadata": {},
     "output_type": "execute_result"
    }
   ],
   "source": [
    "reduce_output = flatten(map(lambda x: REDUCE(*x), shuffle_output))\n",
    "reduce_output = list(reduce_output)\n",
    "reduce_output"
   ]
  },
  {
   "cell_type": "markdown",
   "metadata": {
    "id": "xf6qhHEtd6bI"
   },
   "source": [
    "Все действия одним конвейером!"
   ]
  },
  {
   "cell_type": "code",
   "execution_count": 12,
   "metadata": {
    "ExecuteTime": {
     "end_time": "2024-03-20T20:55:56.489077Z",
     "start_time": "2024-03-20T20:55:56.483030Z"
    },
    "colab": {
     "base_uri": "https://localhost:8080/"
    },
    "id": "dZaQGYxCdpw5",
    "outputId": "7fefd485-de9d-4b5b-e97e-e49a6f8c7c18"
   },
   "outputs": [
    {
     "data": {
      "text/plain": [
       "[(25, 370.0), (33, 800.0)]"
      ]
     },
     "execution_count": 12,
     "metadata": {},
     "output_type": "execute_result"
    }
   ],
   "source": [
    "list(flatten(map(lambda x: REDUCE(*x), groupbykey(flatten(map(lambda x: MAP(*x), RECORDREADER()))))))"
   ]
  },
  {
   "cell_type": "markdown",
   "metadata": {
    "id": "Vq3EWRIpwSiJ"
   },
   "source": [
    "# **MapReduce**\n",
    "Выделим общую для всех пользователей часть системы в отдельную функцию высшего порядка. Это наиболее простая модель MapReduce, без учёта распределённого хранения данных.\n",
    "\n",
    "Пользователь для решения своей задачи реализует RECORDREADER, MAP, REDUCE."
   ]
  },
  {
   "cell_type": "code",
   "execution_count": 13,
   "metadata": {
    "ExecuteTime": {
     "end_time": "2024-03-20T20:55:56.900087Z",
     "start_time": "2024-03-20T20:55:56.886089Z"
    },
    "id": "V1PZeQMwwVjc"
   },
   "outputs": [],
   "source": [
    "def flatten(nested_iterable):\n",
    "  for iterable in nested_iterable:\n",
    "    for element in iterable:\n",
    "      yield element\n",
    "\n",
    "def groupbykey(iterable):\n",
    "  t = {}\n",
    "  for (k2, v2) in iterable:\n",
    "    t[k2] = t.get(k2, []) + [v2]\n",
    "  return t.items()\n",
    "\n",
    "def MapReduce(RECORDREADER, MAP, REDUCE):\n",
    "  return flatten(map(lambda x: REDUCE(*x), groupbykey(flatten(map(lambda x: MAP(*x), RECORDREADER())))))"
   ]
  },
  {
   "cell_type": "markdown",
   "metadata": {
    "id": "iFIVrimep678"
   },
   "source": [
    "## Спецификация MapReduce\n",
    "\n",
    "\n",
    "\n",
    "```\n",
    "f (k1, v1) -> (k2,v2)*\n",
    "g (k2, v2*) -> (k3,v3)*\n",
    "\n",
    "mapreduce ((k1,v1)*) -> (k3,v3)*\n",
    "groupby ((k2,v2)*) -> (k2,v2*)*\n",
    "flatten (e2**) -> e2*\n",
    "\n",
    "mapreduce .map(f).flatten.groupby(k2).map(g).flatten\n",
    "```\n",
    "\n",
    "\n"
   ]
  },
  {
   "cell_type": "markdown",
   "metadata": {
    "id": "QtTFyqke3KGe"
   },
   "source": [
    "# Примеры"
   ]
  },
  {
   "cell_type": "markdown",
   "metadata": {
    "id": "BNhh5763w5Vn"
   },
   "source": [
    "## SQL"
   ]
  },
  {
   "cell_type": "code",
   "execution_count": 14,
   "metadata": {
    "ExecuteTime": {
     "end_time": "2024-03-20T20:55:57.884949Z",
     "start_time": "2024-03-20T20:55:57.867943Z"
    },
    "colab": {
     "base_uri": "https://localhost:8080/"
    },
    "id": "QkyurnvGxBGk",
    "outputId": "f96530ad-aa4b-4a93-badb-9be2839bffce"
   },
   "outputs": [
    {
     "data": {
      "text/plain": [
       "[(25, 370.0), (33, 800.0)]"
      ]
     },
     "execution_count": 14,
     "metadata": {},
     "output_type": "execute_result"
    }
   ],
   "source": [
    "from typing import NamedTuple # requires python 3.6+\n",
    "from typing import Iterator\n",
    "\n",
    "class User(NamedTuple):\n",
    "  id: int\n",
    "  age: str\n",
    "  social_contacts: int\n",
    "  gender: str\n",
    "\n",
    "input_collection = [\n",
    "    User(id=0, age=55, gender='male', social_contacts=20),\n",
    "    User(id=1, age=25, gender='female', social_contacts=240),\n",
    "    User(id=2, age=25, gender='female', social_contacts=500),\n",
    "    User(id=3, age=33, gender='female', social_contacts=800)\n",
    "]\n",
    "\n",
    "def MAP(_, row:NamedTuple):\n",
    "  if (row.gender == 'female'):\n",
    "    yield (row.age, row)\n",
    "\n",
    "def REDUCE(age:str, rows:Iterator[NamedTuple]):\n",
    "  sum = 0\n",
    "  count = 0\n",
    "  for row in rows:\n",
    "    sum += row.social_contacts\n",
    "    count += 1\n",
    "  if (count > 0):\n",
    "    yield (age, sum/count)\n",
    "  else:\n",
    "    yield (age, 0)\n",
    "\n",
    "def RECORDREADER():\n",
    "  return [(u.id, u) for u in input_collection]\n",
    "\n",
    "output = MapReduce(RECORDREADER, MAP, REDUCE)\n",
    "output = list(output)\n",
    "output"
   ]
  },
  {
   "cell_type": "markdown",
   "metadata": {
    "id": "kNKYIeerx0nY"
   },
   "source": [
    "## Matrix-Vector multiplication"
   ]
  },
  {
   "cell_type": "code",
   "execution_count": 15,
   "metadata": {
    "ExecuteTime": {
     "end_time": "2024-03-20T20:55:58.203079Z",
     "start_time": "2024-03-20T20:55:58.183081Z"
    },
    "colab": {
     "base_uri": "https://localhost:8080/"
    },
    "id": "rwcntRcCyi1V",
    "outputId": "8d5506ab-c94c-4411-deb3-800171e51bb6"
   },
   "outputs": [
    {
     "data": {
      "text/plain": [
       "[(0, np.float64(2.462688996428474)),\n",
       " (1, np.float64(2.462688996428474)),\n",
       " (2, np.float64(2.462688996428474)),\n",
       " (3, np.float64(2.462688996428474)),\n",
       " (4, np.float64(2.462688996428474))]"
      ]
     },
     "execution_count": 15,
     "metadata": {},
     "output_type": "execute_result"
    }
   ],
   "source": [
    "from typing import Iterator\n",
    "import numpy as np\n",
    "\n",
    "mat = np.ones((5,4))\n",
    "vec = np.random.rand(5) # in-memory vector in all map tasks\n",
    "\n",
    "def MAP(coordinates:(int, int), value:int):\n",
    "  i, j = coordinates\n",
    "  yield (i, value*vec[j])\n",
    "\n",
    "def REDUCE(i:int, products:Iterator[NamedTuple]):\n",
    "  sum = 0\n",
    "  for p in products:\n",
    "    sum += p\n",
    "  yield (i, sum)\n",
    "\n",
    "def RECORDREADER():\n",
    "  for i in range(mat.shape[0]):\n",
    "    for j in range(mat.shape[1]):\n",
    "      yield ((i, j), mat[i,j])\n",
    "\n",
    "output = MapReduce(RECORDREADER, MAP, REDUCE)\n",
    "output = list(output)\n",
    "output"
   ]
  },
  {
   "cell_type": "markdown",
   "metadata": {
    "id": "ruZREYdi2o4O"
   },
   "source": [
    "## Inverted index"
   ]
  },
  {
   "cell_type": "code",
   "execution_count": 16,
   "metadata": {
    "ExecuteTime": {
     "end_time": "2024-03-20T20:55:58.553112Z",
     "start_time": "2024-03-20T20:55:58.540081Z"
    },
    "colab": {
     "base_uri": "https://localhost:8080/"
    },
    "id": "vt9H9Alf3TYv",
    "outputId": "95f3eeb3-dc8d-4ce2-e01b-1eec642570d9"
   },
   "outputs": [
    {
     "data": {
      "text/plain": [
       "[('what', ['0', '1']),\n",
       " ('it', ['0', '1', '2']),\n",
       " ('is', ['0', '1', '2']),\n",
       " ('a', ['2']),\n",
       " ('banana', ['2'])]"
      ]
     },
     "execution_count": 16,
     "metadata": {},
     "output_type": "execute_result"
    }
   ],
   "source": [
    "from typing import Iterator\n",
    "\n",
    "d1 = \"it is what it is\"\n",
    "d2 = \"what is it\"\n",
    "d3 = \"it is a banana\"\n",
    "documents = [d1, d2, d3]\n",
    "\n",
    "def RECORDREADER():\n",
    "  for (docid, document) in enumerate(documents):\n",
    "    yield (\"{}\".format(docid), document)\n",
    "\n",
    "def MAP(docId:str, body:str):\n",
    "  for word in set(body.split(' ')):\n",
    "    yield (word, docId)\n",
    "\n",
    "def REDUCE(word:str, docIds:Iterator[str]):\n",
    "  yield (word, sorted(docIds))\n",
    "\n",
    "output = MapReduce(RECORDREADER, MAP, REDUCE)\n",
    "output = list(output)\n",
    "output"
   ]
  },
  {
   "cell_type": "markdown",
   "metadata": {
    "id": "R7az-6DA6qr2"
   },
   "source": [
    "## WordCount"
   ]
  },
  {
   "cell_type": "code",
   "execution_count": 17,
   "metadata": {
    "ExecuteTime": {
     "end_time": "2024-03-20T20:55:58.872213Z",
     "start_time": "2024-03-20T20:55:58.853145Z"
    },
    "colab": {
     "base_uri": "https://localhost:8080/"
    },
    "id": "dN-nbtgG6uYG",
    "outputId": "ee929703-3b28-4e20-cc0e-e849e8565ea9"
   },
   "outputs": [
    {
     "data": {
      "text/plain": [
       "[('', 3), ('it', 9), ('is', 9), ('what', 5), ('a', 1), ('banana', 1)]"
      ]
     },
     "execution_count": 17,
     "metadata": {},
     "output_type": "execute_result"
    }
   ],
   "source": [
    "from typing import Iterator\n",
    "\n",
    "d1 = \"\"\"\n",
    "it is what it is\n",
    "it is what it is\n",
    "it is what it is\"\"\"\n",
    "d2 = \"\"\"\n",
    "what is it\n",
    "what is it\"\"\"\n",
    "d3 = \"\"\"\n",
    "it is a banana\"\"\"\n",
    "documents = [d1, d2, d3]\n",
    "\n",
    "def RECORDREADER():\n",
    "  for (docid, document) in enumerate(documents):\n",
    "    for (lineid, line) in enumerate(document.split('\\n')):\n",
    "      yield (\"{}:{}\".format(docid,lineid), line)\n",
    "\n",
    "def MAP(docId:str, line:str):\n",
    "  for word in line.split(\" \"):\n",
    "    yield (word, 1)\n",
    "\n",
    "def REDUCE(word:str, counts:Iterator[int]):\n",
    "  sum = 0\n",
    "  for c in counts:\n",
    "    sum += c\n",
    "  yield (word, sum)\n",
    "\n",
    "output = MapReduce(RECORDREADER, MAP, REDUCE)\n",
    "output = list(output)\n",
    "output"
   ]
  },
  {
   "cell_type": "markdown",
   "metadata": {
    "id": "h-jRAcYCAkkk"
   },
   "source": [
    "# MapReduce Distributed\n",
    "\n",
    "Добавляется в модель фабрика RECORDREARER-ов --- INPUTFORMAT, функция распределения промежуточных результатов по партициям PARTITIONER, и функция COMBINER для частичной аггрегации промежуточных результатов до распределения по новым партициям."
   ]
  },
  {
   "cell_type": "code",
   "execution_count": 18,
   "metadata": {
    "ExecuteTime": {
     "end_time": "2024-03-20T20:55:59.221526Z",
     "start_time": "2024-03-20T20:55:59.198215Z"
    },
    "id": "nw-b-xJsApgW"
   },
   "outputs": [],
   "source": [
    "def flatten(nested_iterable):\n",
    "  for iterable in nested_iterable:\n",
    "    for element in iterable:\n",
    "      yield element\n",
    "\n",
    "def groupbykey(iterable):\n",
    "  t = {}\n",
    "  for (k2, v2) in iterable:\n",
    "    t[k2] = t.get(k2, []) + [v2]\n",
    "  return t.items()\n",
    "\n",
    "def groupbykey_distributed(map_partitions, PARTITIONER):\n",
    "  global reducers\n",
    "  partitions = [dict() for _ in range(reducers)]\n",
    "  for map_partition in map_partitions:\n",
    "    for (k2, v2) in map_partition:\n",
    "      p = partitions[PARTITIONER(k2)]\n",
    "      p[k2] = p.get(k2, []) + [v2]\n",
    "  return [(partition_id, sorted(partition.items(), key=lambda x: x[0])) for (partition_id, partition) in enumerate(partitions)]\n",
    "\n",
    "def PARTITIONER(obj):\n",
    "  global reducers\n",
    "  return hash(obj) % reducers\n",
    "\n",
    "def MapReduceDistributed(INPUTFORMAT, MAP, REDUCE, PARTITIONER=PARTITIONER, COMBINER=None):\n",
    "  map_partitions = map(lambda record_reader: flatten(map(lambda k1v1: MAP(*k1v1), record_reader)), INPUTFORMAT())\n",
    "  if COMBINER != None:\n",
    "    map_partitions = map(lambda map_partition: flatten(map(lambda k2v2: COMBINER(*k2v2), groupbykey(map_partition))), map_partitions)\n",
    "  reduce_partitions = groupbykey_distributed(map_partitions, PARTITIONER) # shuffle\n",
    "  reduce_outputs = map(lambda reduce_partition: (reduce_partition[0], flatten(map(lambda reduce_input_group: REDUCE(*reduce_input_group), reduce_partition[1]))), reduce_partitions)\n",
    "\n",
    "  print(\"{} key-value pairs were sent over a network.\".format(sum([len(vs) for (k,vs) in flatten([partition for (partition_id, partition) in reduce_partitions])])))\n",
    "  return reduce_outputs"
   ]
  },
  {
   "cell_type": "markdown",
   "metadata": {
    "id": "kxirlf3XqZxY"
   },
   "source": [
    "## Спецификация MapReduce Distributed\n",
    "\n",
    "\n",
    "```\n",
    "f (k1, v1) -> (k2,v2)*\n",
    "g (k2, v2*) -> (k3,v3)*\n",
    "\n",
    "e1 (k1, v1)\n",
    "e2 (k2, v2)\n",
    "partition1 (k2, v2)*\n",
    "partition2 (k2, v2*)*\n",
    "\n",
    "flatmap (e1->e2*, e1*) -> partition1*\n",
    "groupby (partition1*) -> partition2*\n",
    "\n",
    "mapreduce ((k1,v1)*) -> (k3,v3)*\n",
    "mapreduce .flatmap(f).groupby(k2).flatmap(g)\n",
    "```\n",
    "\n"
   ]
  },
  {
   "cell_type": "markdown",
   "metadata": {
    "id": "CWYw_CpbbY3C"
   },
   "source": [
    "## WordCount"
   ]
  },
  {
   "cell_type": "code",
   "execution_count": 19,
   "metadata": {
    "ExecuteTime": {
     "end_time": "2024-03-20T20:56:00.033768Z",
     "start_time": "2024-03-20T20:56:00.017769Z"
    },
    "colab": {
     "base_uri": "https://localhost:8080/"
    },
    "id": "uR_zfGFkMZlp",
    "outputId": "085819d1-7ccf-4808-9905-81f02474a79f"
   },
   "outputs": [
    {
     "name": "stdout",
     "output_type": "stream",
     "text": [
      "56 key-value pairs were sent over a network.\n"
     ]
    },
    {
     "data": {
      "text/plain": [
       "[(0, [('', 6), ('what', 10)]),\n",
       " (1, [('a', 2), ('banana', 2), ('is', 18), ('it', 18)])]"
      ]
     },
     "execution_count": 19,
     "metadata": {},
     "output_type": "execute_result"
    }
   ],
   "source": [
    "from typing import Iterator\n",
    "import numpy as np\n",
    "\n",
    "d1 = \"\"\"\n",
    "it is what it is\n",
    "it is what it is\n",
    "it is what it is\"\"\"\n",
    "d2 = \"\"\"\n",
    "what is it\n",
    "what is it\"\"\"\n",
    "d3 = \"\"\"\n",
    "it is a banana\"\"\"\n",
    "documents = [d1, d2, d3, d1, d2, d3]\n",
    "\n",
    "maps = 3\n",
    "reducers = 2\n",
    "\n",
    "def INPUTFORMAT():\n",
    "  global maps\n",
    "\n",
    "  def RECORDREADER(split):\n",
    "    for (docid, document) in enumerate(split):\n",
    "      for (lineid, line) in enumerate(document.split('\\n')):\n",
    "        yield (\"{}:{}\".format(docid,lineid), line)\n",
    "\n",
    "  split_size =  int(np.ceil(len(documents)/maps))\n",
    "  for i in range(0, len(documents), split_size):\n",
    "    yield RECORDREADER(documents[i:i+split_size])\n",
    "\n",
    "def MAP(docId:str, line:str):\n",
    "  for word in line.split(\" \"):\n",
    "    yield (word, 1)\n",
    "\n",
    "def REDUCE(word:str, counts:Iterator[int]):\n",
    "  sum = 0\n",
    "  for c in counts:\n",
    "    sum += c\n",
    "  yield (word, sum)\n",
    "\n",
    "# try to set COMBINER=REDUCER and look at the number of values sent over the network\n",
    "partitioned_output = MapReduceDistributed(INPUTFORMAT, MAP, REDUCE, COMBINER=None)\n",
    "partitioned_output = [(partition_id, list(partition)) for (partition_id, partition) in partitioned_output]\n",
    "partitioned_output"
   ]
  },
  {
   "cell_type": "markdown",
   "metadata": {
    "id": "gCJGx8IQ87xS"
   },
   "source": [
    "## TeraSort"
   ]
  },
  {
   "cell_type": "code",
   "execution_count": 20,
   "metadata": {
    "ExecuteTime": {
     "end_time": "2024-03-20T20:56:00.448773Z",
     "start_time": "2024-03-20T20:56:00.423769Z"
    },
    "colab": {
     "base_uri": "https://localhost:8080/"
    },
    "id": "P2v8v1v_8_YR",
    "outputId": "2dbddaaa-cbe6-4ed5-ffbf-174027801049"
   },
   "outputs": [
    {
     "name": "stdout",
     "output_type": "stream",
     "text": [
      "30 key-value pairs were sent over a network.\n"
     ]
    },
    {
     "data": {
      "text/plain": [
       "[(0,\n",
       "  [(None, np.float64(0.027138773292931906)),\n",
       "   (None, np.float64(0.08356263600422342)),\n",
       "   (None, np.float64(0.15681484862983108)),\n",
       "   (None, np.float64(0.15987107383532406)),\n",
       "   (None, np.float64(0.16157845934304993)),\n",
       "   (None, np.float64(0.18990358218140502)),\n",
       "   (None, np.float64(0.20299276342994776)),\n",
       "   (None, np.float64(0.20911968010164816)),\n",
       "   (None, np.float64(0.21105793005202045)),\n",
       "   (None, np.float64(0.2301916297392297)),\n",
       "   (None, np.float64(0.25658617713672927)),\n",
       "   (None, np.float64(0.28832201484558895)),\n",
       "   (None, np.float64(0.29922218092157216)),\n",
       "   (None, np.float64(0.4827766626191481))]),\n",
       " (1,\n",
       "  [(None, np.float64(0.5426546868573219)),\n",
       "   (None, np.float64(0.5739871586959192)),\n",
       "   (None, np.float64(0.6147482551207583)),\n",
       "   (None, np.float64(0.62874950495668)),\n",
       "   (None, np.float64(0.6309815281111341)),\n",
       "   (None, np.float64(0.6522199394840711)),\n",
       "   (None, np.float64(0.6544280147908885)),\n",
       "   (None, np.float64(0.6626954044700207)),\n",
       "   (None, np.float64(0.7419517903160934)),\n",
       "   (None, np.float64(0.7597064471636851)),\n",
       "   (None, np.float64(0.7755299463553803)),\n",
       "   (None, np.float64(0.8430401348021418)),\n",
       "   (None, np.float64(0.8615431598593336)),\n",
       "   (None, np.float64(0.8700611735765054)),\n",
       "   (None, np.float64(0.8719378105517477)),\n",
       "   (None, np.float64(0.9490584837921524))])]"
      ]
     },
     "execution_count": 20,
     "metadata": {},
     "output_type": "execute_result"
    }
   ],
   "source": [
    "import numpy as np\n",
    "\n",
    "input_values = np.random.rand(30)\n",
    "maps = 3\n",
    "reducers = 2\n",
    "min_value = 0.0\n",
    "max_value = 1.0\n",
    "\n",
    "def INPUTFORMAT():\n",
    "  global maps\n",
    "\n",
    "  def RECORDREADER(split):\n",
    "    for value in split:\n",
    "        yield (value, None)\n",
    "\n",
    "  split_size =  int(np.ceil(len(input_values)/maps))\n",
    "  for i in range(0, len(input_values), split_size):\n",
    "    yield RECORDREADER(input_values[i:i+split_size])\n",
    "\n",
    "def MAP(value:int, _):\n",
    "  yield (value, None)\n",
    "\n",
    "def PARTITIONER(key):\n",
    "  global reducers\n",
    "  global max_value\n",
    "  global min_value\n",
    "  bucket_size = (max_value-min_value)/reducers\n",
    "  bucket_id = 0\n",
    "  while((key>(bucket_id+1)*bucket_size) and ((bucket_id+1)*bucket_size<max_value)):\n",
    "    bucket_id += 1\n",
    "  return bucket_id\n",
    "\n",
    "def REDUCE(value:int, _):\n",
    "  yield (None,value)\n",
    "\n",
    "partitioned_output = MapReduceDistributed(INPUTFORMAT, MAP, REDUCE, COMBINER=None, PARTITIONER=PARTITIONER)\n",
    "partitioned_output = [(partition_id, list(partition)) for (partition_id, partition) in partitioned_output]\n",
    "partitioned_output"
   ]
  },
  {
   "cell_type": "markdown",
   "metadata": {
    "id": "Iy65YJTH99iT"
   },
   "source": [
    "# Упражнения\n",
    "Упражнения взяты из Rajaraman A., Ullman J. D. Mining of massive datasets. – Cambridge University Press, 2011.\n",
    "\n",
    "\n",
    "Для выполнения заданий переопределите функции RECORDREADER, MAP, REDUCE. Для модели распределённой системы может потребоваться переопределение функций PARTITION и COMBINER."
   ]
  },
  {
   "cell_type": "markdown",
   "metadata": {
    "id": "cfvAeZm3S8S8"
   },
   "source": [
    "### Максимальное значение ряда\n",
    "\n",
    "Разработайте MapReduce алгоритм, который находит максимальное число входного списка чисел."
   ]
  },
  {
   "cell_type": "code",
   "execution_count": 21,
   "metadata": {
    "ExecuteTime": {
     "end_time": "2024-03-20T20:56:01.470877Z",
     "start_time": "2024-03-20T20:56:01.454880Z"
    },
    "colab": {
     "base_uri": "https://localhost:8080/"
    },
    "id": "rY8oumrBR5KD",
    "outputId": "584a944b-b6a4-46eb-f287-fa52e0951299"
   },
   "outputs": [
    {
     "name": "stdout",
     "output_type": "stream",
     "text": [
      "[(0, 9996)]\n"
     ]
    }
   ],
   "source": [
    "import random\n",
    "from typing import Generator, Tuple, List\n",
    "\n",
    "random_list = [random.randint(0, 10000) for _ in range(1000)]\n",
    "\n",
    "def RECORDREADER() -> Generator[Tuple[int, int], None, None]:\n",
    "    \"\"\"\n",
    "    Генератор, который читает данные из случайного списка.\n",
    "\n",
    "    Возвращает кортежи, где первый элемент всегда 0 (идентификатор),\n",
    "    а второй элемент - случайное значение из списка.\n",
    "    \"\"\"\n",
    "    for value in random_list:\n",
    "        yield 0, value\n",
    "\n",
    "def MAP(id: int, value: int) -> Generator[Tuple[int, int], None, None]:\n",
    "    \"\"\"\n",
    "    Функция отображения (Map), которая принимает идентификатор и значение.\n",
    "\n",
    "    Возвращает кортеж, содержащий идентификатор и значение.\n",
    "    \"\"\"\n",
    "    yield id, value\n",
    "\n",
    "def REDUCE(id: int, values: List[int]) -> Generator[Tuple[int, int], None, None]:\n",
    "    \"\"\"\n",
    "    Функция редукции, которая принимает идентификатор и список значений.\n",
    "\n",
    "    Возвращает кортеж, содержащий идентификатор и максимальное значение из списка.\n",
    "    \"\"\"\n",
    "    yield id, max(values)\n",
    "\n",
    "print(list(MapReduce(RECORDREADER, MAP, REDUCE)))"
   ]
  },
  {
   "cell_type": "markdown",
   "metadata": {
    "id": "k86bXnqZTk-U"
   },
   "source": [
    "### Арифметическое среднее\n",
    "\n",
    "Разработайте MapReduce алгоритм, который находит арифметическое среднее.\n",
    "\n",
    "$$\\overline{X} = \\frac{1}{n}\\sum_{i=0}^{n} x_i$$\n"
   ]
  },
  {
   "cell_type": "code",
   "execution_count": 22,
   "metadata": {},
   "outputs": [
    {
     "name": "stdout",
     "output_type": "stream",
     "text": [
      "[0, 0, 2]\n"
     ]
    }
   ],
   "source": [
    "input_data = [random.randint(0, 10) for _ in range(3)]\n",
    "print(input_data)"
   ]
  },
  {
   "cell_type": "code",
   "execution_count": 23,
   "metadata": {
    "ExecuteTime": {
     "end_time": "2024-03-20T20:56:01.978354Z",
     "start_time": "2024-03-20T20:56:01.963881Z"
    },
    "colab": {
     "base_uri": "https://localhost:8080/"
    },
    "id": "MPoY5pkfUNZf",
    "outputId": "7f7921c8-562f-40c7-ac6a-8ed1f226fa17"
   },
   "outputs": [
    {
     "name": "stdout",
     "output_type": "stream",
     "text": [
      "[(0, 0.6666666666666666)]\n"
     ]
    }
   ],
   "source": [
    "def RECORDREADER() -> Generator[Tuple[int, int], None, None]:\n",
    "    \"\"\"\n",
    "    Генератор, который читает данные из случайного списка.\n",
    "\n",
    "    Возвращает кортежи, где первый элемент всегда 0 (идентификатор),\n",
    "    а второй элемент - случайное значение из списка.\n",
    "    \"\"\"\n",
    "    for value in input_data:\n",
    "        yield 0, value\n",
    "\n",
    "def MAP(id: int, value: int) -> Generator[Tuple[int, int], None, None]:\n",
    "    \"\"\"\n",
    "    Функция отображения, которая принимает идентификатор и значение.\n",
    "\n",
    "    Возвращает кортеж, содержащий идентификатор и значение.\n",
    "    \"\"\"\n",
    "    yield id, value\n",
    "\n",
    "def REDUCE(id: int, values: List[int]) -> Generator[Tuple[int, int], None, None]:\n",
    "    \"\"\"\n",
    "    Функция редукции, которая принимает идентификатор и список значений.\n",
    "\n",
    "    Возвращает кортеж, содержащий идентификатор и арифметическое среднее из списка.\n",
    "    \"\"\"\n",
    "    yield id, sum(values)/len(values)\n",
    "\n",
    "print(list(MapReduce(RECORDREADER, MAP, REDUCE)))"
   ]
  },
  {
   "cell_type": "markdown",
   "metadata": {
    "id": "xanzszhsIlLe"
   },
   "source": [
    "### GroupByKey на основе сортировки\n",
    "\n",
    "Реализуйте groupByKey на основе сортировки, проверьте его работу на примерах"
   ]
  },
  {
   "cell_type": "code",
   "execution_count": 24,
   "metadata": {
    "ExecuteTime": {
     "end_time": "2024-03-20T20:56:02.520668Z",
     "start_time": "2024-03-20T20:56:02.503601Z"
    },
    "colab": {
     "base_uri": "https://localhost:8080/"
    },
    "id": "hQPn3USsIkEC",
    "outputId": "b8608d28-bf43-43b2-e89b-4872a2fc8a9e"
   },
   "outputs": [
    {
     "name": "stdout",
     "output_type": "stream",
     "text": [
      "[(0, [User(id=0, age=55, social_contacts=20, gender='male')]), (1, [User(id=1, age=25, social_contacts=240, gender='female')]), (2, [User(id=2, age=25, social_contacts=500, gender='female')]), (3, [User(id=3, age=33, social_contacts=800, gender='female')])]\n",
      "\n",
      "[('male', [User(id=0, age=55, social_contacts=20, gender='male')]), ('female', [User(id=1, age=25, social_contacts=240, gender='female'), User(id=2, age=25, social_contacts=500, gender='female'), User(id=3, age=33, social_contacts=800, gender='female')])]\n",
      "\n",
      "[(55, [User(id=0, age=55, social_contacts=20, gender='male')]), (25, [User(id=1, age=25, social_contacts=240, gender='female'), User(id=2, age=25, social_contacts=500, gender='female')]), (33, [User(id=3, age=33, social_contacts=800, gender='female')])]\n"
     ]
    }
   ],
   "source": [
    "from typing import List, Tuple, Iterator, Dict, Any\n",
    "from collections import defaultdict\n",
    "\n",
    "input_collection = [\n",
    "    User(id=0, age=55, gender='male', social_contacts=20),\n",
    "    User(id=1, age=25, gender='female', social_contacts=240),\n",
    "    User(id=2, age=25, gender='female', social_contacts=500),\n",
    "    User(id=3, age=33, gender='female', social_contacts=800)\n",
    "]\n",
    "\n",
    "\n",
    "def RECORDREADER(key: str) -> Iterator[Tuple[Any, User]]:\n",
    "    \"\"\"\n",
    "    Генератор, который извлекает значения по указанному ключу (атрибуту) из коллекции пользователей.\n",
    "    \"\"\"\n",
    "    for user in input_collection:\n",
    "        yield getattr(user, key), user\n",
    "\n",
    "\n",
    "def groupByKey(iterable: Iterator[Tuple[Any, Any]]) -> Iterator[Tuple[Any, List[Any]]]:\n",
    "    \"\"\"\n",
    "    Группирует элементы по ключу.\n",
    "    Принимает на вход итерируемый объект, состоящий из пар (key, value),\n",
    "    \"\"\"\n",
    "    groups = defaultdict(list)  # Используем defaultdict для автоматического создания списков\n",
    "    for key, value in iterable:\n",
    "        groups[key].append(value)  # Добавляем значение в соответствующий список\n",
    "    return groups.items()\n",
    "\n",
    "def flatten(nested_iterable: Iterator[Iterator[Any]]) -> Iterator[Any]:\n",
    "    \"\"\"\n",
    "    Разворачивает вложенные итерируемые объекты в плоский итератор.\n",
    "    \"\"\"\n",
    "    for inner_iterable in nested_iterable:\n",
    "        yield from inner_iterable\n",
    "\n",
    "\n",
    "print(list(groupByKey(flatten(map(lambda x: MAP(*x), RECORDREADER(\"id\"))))), end=\"\\n\\n\")\n",
    "\n",
    "print(list(groupByKey(flatten(map(lambda x: MAP(*x), RECORDREADER(\"gender\"))))), end=\"\\n\\n\")\n",
    "\n",
    "print(list(groupByKey(flatten(map(lambda x: MAP(*x), RECORDREADER(\"age\"))))))"
   ]
  },
  {
   "cell_type": "markdown",
   "metadata": {
    "id": "5SgEjCZyGnu6"
   },
   "source": [
    "### Drop duplicates (set construction, unique elements, distinct)\n",
    "\n",
    "Реализуйте распределённую операцию исключения дубликатов"
   ]
  },
  {
   "cell_type": "code",
   "execution_count": 25,
   "metadata": {
    "ExecuteTime": {
     "end_time": "2024-03-20T20:56:03.124649Z",
     "start_time": "2024-03-20T20:56:03.107199Z"
    },
    "colab": {
     "base_uri": "https://localhost:8080/"
    },
    "id": "okjbyApjGhMt",
    "outputId": "eb32c48f-be8c-4c79-e995-e50669144bed"
   },
   "outputs": [
    {
     "name": "stdout",
     "output_type": "stream",
     "text": [
      "5 key-value pairs were sent over a network.\n"
     ]
    },
    {
     "data": {
      "text/plain": [
       "[(0,\n",
       "  [[User(id=0, age=5, social_contacts=20, gender='male')],\n",
       "   [User(id=2, age=2, social_contacts=50, gender='female')],\n",
       "   [User(id=4, age=3, social_contacts=80, gender='female')]]),\n",
       " (1,\n",
       "  [[User(id=1, age=2, social_contacts=24, gender='female')],\n",
       "   [User(id=3, age=3, social_contacts=80, gender='female')]])]"
      ]
     },
     "execution_count": 25,
     "metadata": {},
     "output_type": "execute_result"
    }
   ],
   "source": [
    "import numpy as np\n",
    "\n",
    "users_data = [\n",
    "    User(id=0, age=5, gender='male', social_contacts=20),\n",
    "    User(id=1, age=2, gender='female', social_contacts=24),\n",
    "    User(id=2, age=2, gender='female', social_contacts=50),\n",
    "    User(id=3, age=3, gender='female', social_contacts=80),\n",
    "    User(id=4, age=3, gender='female', social_contacts=80)\n",
    "]\n",
    "\n",
    "num_mappers = 2  # Количество мапперов\n",
    "num_reducers = 2  # Количество редьюсеров\n",
    "\n",
    "def INPUTFORMAT():\n",
    "    \"\"\"Функция, разбивающая данные на части для мапперов.\"\"\"\n",
    "    global num_mappers\n",
    "    \n",
    "    def RECORDREADER(user_partition):\n",
    "        \"\"\"Генератор, который поочередно возвращает пользователей из разбиения.\"\"\"\n",
    "        for user in user_partition:\n",
    "            yield (user.id, user)\n",
    "    \n",
    "    partition_size = int(np.ceil(len(users_data) / num_mappers))  # Вычисляем размер каждой части\n",
    "    \n",
    "    # Разбиваем данные на части и создаем генераторы для каждой из них\n",
    "    for start_idx in range(0, len(users_data), partition_size):\n",
    "        yield RECORDREADER(users_data[start_idx:start_idx + partition_size])\n",
    "\n",
    "def MAP(user_id: int, user: User):\n",
    "    \"\"\"Функция маппера: просто передаем данные пользователя дальше.\"\"\"\n",
    "    yield (user_id, user)\n",
    "\n",
    "def REDUCE(_, user_list: list):\n",
    "    \"\"\"Функция редьюсера: удаляет дубликаты пользователей.\"\"\"\n",
    "    yield list(set(user_list))\n",
    "    \n",
    "\n",
    "map_reduce_output = MapReduceDistributed(INPUTFORMAT, MAP, REDUCE, COMBINER=None)\n",
    "\n",
    "final_output = [(partition_id, list(partition)) for (partition_id, partition) in map_reduce_output]\n",
    "final_output"
   ]
  },
  {
   "cell_type": "markdown",
   "metadata": {
    "id": "e7sRGoTXuJze"
   },
   "source": [
    "#Операторы реляционной алгебры\n",
    "### Selection (Выборка)\n",
    "\n",
    "**The Map Function**: Для  каждого кортежа $t \\in R$ вычисляется истинность предиката $C$. В случае истины создаётся пара ключ-значение $(t, t)$. В паре ключ и значение одинаковы, равны $t$.\n",
    "\n",
    "**The Reduce Function:** Роль функции Reduce выполняет функция идентичности, которая возвращает то же значение, что получила на вход.\n",
    "\n"
   ]
  },
  {
   "cell_type": "code",
   "execution_count": 26,
   "metadata": {
    "ExecuteTime": {
     "end_time": "2024-03-20T20:56:03.747590Z",
     "start_time": "2024-03-20T20:56:03.733476Z"
    },
    "colab": {
     "base_uri": "https://localhost:8080/"
    },
    "id": "4nKIKe59uIfc",
    "outputId": "e3aaf11c-a306-4835-b01a-11ff252fab6b"
   },
   "outputs": [
    {
     "data": {
      "text/plain": [
       "[([User(id=1, age=2, social_contacts=24, gender='female')],\n",
       "  [User(id=1, age=2, social_contacts=24, gender='female')])]"
      ]
     },
     "execution_count": 26,
     "metadata": {},
     "output_type": "execute_result"
    }
   ],
   "source": [
    "user_data = [\n",
    "    User(id=0, age=5, gender='male', social_contacts=20),\n",
    "    User(id=1, age=2, gender='female', social_contacts=24),\n",
    "    User(id=2, age=2, gender='male', social_contacts=50),\n",
    "    User(id=3, age=3, gender='female', social_contacts=80)\n",
    "]\n",
    "\n",
    "def RECORDREADER():\n",
    "    \"\"\"Генератор, который поочередно возвращает пользователей.\"\"\"\n",
    "    for user in user_data:\n",
    "        yield (user.id, user)\n",
    "\n",
    "def MAP(user_id: int, user: User):\n",
    "    \"\"\"Функция маппера: фильтрует пользователей младше 3 лет.\"\"\"\n",
    "    if user.age < 3 and user.gender == 'female':\n",
    "        yield (user, user)\n",
    "\n",
    "def REDUCE(user_id: int, user: User):\n",
    "    \"\"\"Функция редьюсера: передает пользователя без изменений.\"\"\"\n",
    "    yield user, user\n",
    "\n",
    "map_reduce_output = list(MapReduce(RECORDREADER, MAP, REDUCE))\n",
    "map_reduce_output"
   ]
  },
  {
   "cell_type": "markdown",
   "metadata": {
    "id": "w27Ca-_Ku85V"
   },
   "source": [
    "### Projection (Проекция)\n",
    "\n",
    "Проекция на множество атрибутов $S$.\n",
    "\n",
    "**The Map Function:** Для каждого кортежа $t \\in R$ создайте кортеж $t′$, исключая  из $t$ те значения, атрибуты которых не принадлежат  $S$. Верните пару $(t′, t′)$.\n",
    "\n",
    "**The Reduce Function:** Для каждого ключа $t′$, созданного любой Map задачей, вы получаете одну или несколько пар $(t′, t′)$. Reduce функция преобразует $(t′, [t′, t′, . . . , t′])$ в $(t′, t′)$, так, что для ключа $t′$ возвращается одна пара  $(t′, t′)$."
   ]
  },
  {
   "cell_type": "code",
   "execution_count": 27,
   "metadata": {
    "ExecuteTime": {
     "end_time": "2024-03-20T20:56:04.323158Z",
     "start_time": "2024-03-20T20:56:04.302107Z"
    },
    "colab": {
     "base_uri": "https://localhost:8080/"
    },
    "id": "BEvuY4GqvhS6",
    "outputId": "ef6477c9-373a-4e7d-fc22-59d4e92d4b40"
   },
   "outputs": [
    {
     "data": {
      "text/plain": [
       "[(UserProjection(id=0, gender='male'), UserProjection(id=0, gender='male')),\n",
       " (UserProjection(id=1, gender='female'),\n",
       "  UserProjection(id=1, gender='female')),\n",
       " (UserProjection(id=2, gender='female'),\n",
       "  UserProjection(id=2, gender='female')),\n",
       " (UserProjection(id=3, gender='female'),\n",
       "  UserProjection(id=3, gender='female'))]"
      ]
     },
     "execution_count": 27,
     "metadata": {},
     "output_type": "execute_result"
    }
   ],
   "source": [
    "from typing import Generator, Tuple, List, NamedTuple\n",
    "\n",
    "class User:\n",
    "    def __init__(self, id: int, age: int, gender: str, social_contacts: int):\n",
    "        self.id = id\n",
    "        self.age = age\n",
    "        self.gender = gender\n",
    "        self.social_contacts = social_contacts\n",
    "\n",
    "class UserProjection(NamedTuple):\n",
    "    id: int\n",
    "    gender: str\n",
    "\n",
    "data = [\n",
    "    User(id=0, age=5, gender='male', social_contacts=20),\n",
    "    User(id=1, age=2, gender='female', social_contacts=24),\n",
    "    User(id=2, age=2, gender='female', social_contacts=50),\n",
    "    User(id=3, age=3, gender='female', social_contacts=80)\n",
    "]\n",
    "\n",
    "def RECORDREADER():\n",
    "    \"\"\"\n",
    "    Генератор, который читает данные из коллекции data.\n",
    "    \"\"\"\n",
    "    for user in data:\n",
    "        yield (user.id, user)\n",
    "\n",
    "def MAP(userId: int, user: User):\n",
    "    \"\"\"\n",
    "    Создает проекцию пользователя и возвращает пару (t', t').\n",
    "    \"\"\"\n",
    "    new_user = UserProjection(userId, user.gender)\n",
    "    yield (new_user, new_user)\n",
    "\n",
    "def REDUCE(key: UserProjection, usersList: List[UserProjection]):\n",
    "    \"\"\"\n",
    "    Для каждого ключа t' возвращает одну пару (t', t').\n",
    "    \"\"\"\n",
    "    yield (key, key)\n",
    "\n",
    "\n",
    "output = list(MapReduce(RECORDREADER, MAP, REDUCE))\n",
    "output"
   ]
  },
  {
   "cell_type": "markdown",
   "metadata": {
    "id": "7gau6lKXvn2R"
   },
   "source": [
    "### Union (Объединение)\n",
    "\n",
    "**The Map Function:** Превратите каждый входной кортеж $t$ в пару ключ-значение $(t, t)$.\n",
    "\n",
    "**The Reduce Function:** С каждым ключом $t$ будет ассоциировано одно или два значений. В обоих случаях создайте $(t, t)$ в качестве выходного значения."
   ]
  },
  {
   "cell_type": "code",
   "execution_count": 28,
   "metadata": {
    "ExecuteTime": {
     "end_time": "2024-03-20T20:56:04.880679Z",
     "start_time": "2024-03-20T20:56:04.857471Z"
    },
    "colab": {
     "base_uri": "https://localhost:8080/"
    },
    "id": "Sns7a5agv3nw",
    "outputId": "af6e50bb-890d-4508-ee08-493358f600d9"
   },
   "outputs": [
    {
     "data": {
      "text/plain": [
       "[\"(User(id=0, age=5, social_contacts=20, gender='male'), User(id=0, age=5, social_contacts=20, gender='male'))\",\n",
       " \"(User(id=1, age=2, social_contacts=24, gender='female'), User(id=1, age=2, social_contacts=24, gender='female'))\",\n",
       " \"(User(id=2, age=2, social_contacts=50, gender='female'), User(id=2, age=2, social_contacts=50, gender='female'))\",\n",
       " \"(User(id=3, age=3, social_contacts=80, gender='female'), User(id=3, age=3, social_contacts=80, gender='female'))\",\n",
       " \"(User(id=4, age=5, social_contacts=20, gender='male'), User(id=4, age=5, social_contacts=20, gender='male'))\",\n",
       " \"(User(id=5, age=2, social_contacts=24, gender='female'), User(id=5, age=2, social_contacts=24, gender='female'))\",\n",
       " \"(User(id=6, age=2, social_contacts=50, gender='female'), User(id=6, age=2, social_contacts=50, gender='female'))\",\n",
       " \"(User(id=7, age=3, social_contacts=80, gender='female'), User(id=7, age=3, social_contacts=80, gender='female'))\"]"
      ]
     },
     "execution_count": 28,
     "metadata": {},
     "output_type": "execute_result"
    }
   ],
   "source": [
    "import numpy as np\n",
    "from typing import NamedTuple\n",
    "\n",
    "class User(NamedTuple):\n",
    "    id: int\n",
    "    age: int\n",
    "    social_contacts: int\n",
    "    gender: str\n",
    "    \n",
    "    def __str__(self):\n",
    "        return f\"User(id={self.id}, age={self.age}, gender={self.gender}, social_contacts={self.social_contacts})\"\n",
    "\n",
    "# Исходные данные - два списка пользователей\n",
    "users_data_1 = [\n",
    "    User(id=0, age=5, gender='male', social_contacts=20),\n",
    "    User(id=1, age=2, gender='female', social_contacts=24),\n",
    "    User(id=2, age=2, gender='female', social_contacts=50),\n",
    "    User(id=3, age=3, gender='female', social_contacts=80)\n",
    "]\n",
    "\n",
    "users_data_2 = [\n",
    "    User(id=4, age=5, gender='male', social_contacts=20),\n",
    "    User(id=5, age=2, gender='female', social_contacts=24),\n",
    "    User(id=6, age=2, gender='female', social_contacts=50),\n",
    "    User(id=7, age=3, gender='female', social_contacts=80)\n",
    "]\n",
    "\n",
    "# Объединяем списки данных\n",
    "all_users_data = [users_data_1, users_data_2]\n",
    "\n",
    "def RECORDREADER():\n",
    "    \"\"\"Генератор, который поочередно возвращает пользователей из всех списков.\"\"\"\n",
    "    for user_list in all_users_data:\n",
    "        for user in user_list:\n",
    "            yield (user.id, user)\n",
    "\n",
    "def MAP(user_id: int, user: User):\n",
    "    \"\"\"Функция маппера: передает объект пользователя дальше.\"\"\"\n",
    "    yield (user, user)\n",
    "\n",
    "def REDUCE(key: User, user_list: list):\n",
    "    \"\"\"Функция редьюсера: убирает дубликаты пользователей.\"\"\"\n",
    "    yield (key, key)\n",
    "\n",
    "# Выполняем MapReduce-процесс\n",
    "map_reduce_output = MapReduce(RECORDREADER, MAP, REDUCE)\n",
    "\n",
    "# Преобразуем результат в читаемый формат\n",
    "final_output = [str(user) for user in map_reduce_output]\n",
    "final_output\n"
   ]
  },
  {
   "cell_type": "markdown",
   "metadata": {
    "id": "dQ8TuEbjv4J8"
   },
   "source": [
    "### Intersection (Пересечение)\n",
    "\n",
    "**The Map Function:** Превратите каждый кортеж $t$ в пары ключ-значение $(t, t)$.\n",
    "\n",
    "**The Reduce Function:** Если для ключа $t$ есть список из двух элементов $[t, t]$ $-$ создайте пару $(t, t)$. Иначе, ничего не создавайте."
   ]
  },
  {
   "cell_type": "code",
   "execution_count": 29,
   "metadata": {
    "ExecuteTime": {
     "end_time": "2024-03-20T20:56:05.453998Z",
     "start_time": "2024-03-20T20:56:05.431997Z"
    },
    "colab": {
     "base_uri": "https://localhost:8080/"
    },
    "id": "XKlBZh4IwERR",
    "outputId": "49fd5269-b73f-4357-c536-58153120fb0b"
   },
   "outputs": [
    {
     "data": {
      "text/plain": [
       "[\"(User(id=0, age=5, social_contacts=20, gender='male'), User(id=0, age=5, social_contacts=20, gender='male'))\",\n",
       " \"(User(id=1, age=2, social_contacts=24, gender='female'), User(id=1, age=2, social_contacts=24, gender='female'))\",\n",
       " \"(User(id=2, age=2, social_contacts=50, gender='female'), User(id=2, age=2, social_contacts=50, gender='female'))\"]"
      ]
     },
     "execution_count": 29,
     "metadata": {},
     "output_type": "execute_result"
    }
   ],
   "source": [
    "import numpy as np\n",
    "\n",
    "user_data_source_1 = [\n",
    "    User(id=0, age=5, gender='male', social_contacts=20),\n",
    "    User(id=1, age=2, gender='female', social_contacts=24),\n",
    "    User(id=2, age=2, gender='female', social_contacts=50),\n",
    "    User(id=3, age=3, gender='female', social_contacts=80)\n",
    "]\n",
    "\n",
    "user_data_source_2 = [\n",
    "    User(id=0, age=5, gender='male', social_contacts=20),\n",
    "    User(id=1, age=2, gender='female', social_contacts=24),\n",
    "    User(id=2, age=2, gender='female', social_contacts=50),\n",
    "    User(id=4, age=5, gender='female', social_contacts=80)\n",
    "]\n",
    "\n",
    "all_user_data_sources = [user_data_source_1, user_data_source_2]\n",
    "\n",
    "def RECORDREADER():\n",
    "    \"\"\"Генератор, который поочередно возвращает пользователей из всех списков.\"\"\"\n",
    "    for user_list in all_user_data_sources:\n",
    "        for user in user_list:\n",
    "            yield (user.id, user)\n",
    "\n",
    "def MAP(user_id: int, user: User):\n",
    "    \"\"\"Функция маппера: передает объект пользователя дальше без изменений.\"\"\"\n",
    "    yield (user, user)\n",
    "\n",
    "def REDUCE(user_key: User, user_occurrences: list):\n",
    "    \"\"\"Функция редьюсера: оставляет пользователей, которые встречаются дважды.\"\"\"\n",
    "    if len(user_occurrences) == 2:\n",
    "        yield (user_key, user_key)\n",
    "\n",
    "map_reduce_output = MapReduce(RECORDREADER, MAP, REDUCE)\n",
    "\n",
    "final_output = [str(user) for user in map_reduce_output]\n",
    "final_output\n"
   ]
  },
  {
   "cell_type": "markdown",
   "metadata": {
    "id": "AVOpqoY3wE5k"
   },
   "source": [
    "### Difference (Разница)\n",
    "\n",
    "**The Map Function:** Для кортежа $t \\in R$, создайте пару $(t, R)$, и для кортежа $t \\in S$, создайте пару $(t, S)$. Задумка заключается в том, чтобы значение пары было именем отношения $R$ or $S$, которому принадлежит кортеж (а лучше, единичный бит, по которому можно два отношения различить $R$ or $S$), а не весь набор атрибутов отношения.\n",
    "\n",
    "**The Reduce Function:** Для каждого ключа $t$, если соответствующее значение является списком $[R]$, создайте пару $(t, t)$. В иных случаях не предпринимайте действий."
   ]
  },
  {
   "cell_type": "code",
   "execution_count": 30,
   "metadata": {
    "ExecuteTime": {
     "end_time": "2024-03-20T20:56:06.057556Z",
     "start_time": "2024-03-20T20:56:06.036335Z"
    },
    "colab": {
     "base_uri": "https://localhost:8080/"
    },
    "id": "QE_AC09lwZIZ",
    "outputId": "60366ccd-330f-44f6-845c-266f38005606"
   },
   "outputs": [
    {
     "data": {
      "text/plain": [
       "[(User(id=2, age=2, social_contacts=50, gender='female'),\n",
       "  User(id=2, age=2, social_contacts=50, gender='female')),\n",
       " (User(id=3, age=3, social_contacts=80, gender='female'),\n",
       "  User(id=3, age=3, social_contacts=80, gender='female'))]"
      ]
     },
     "execution_count": 30,
     "metadata": {},
     "output_type": "execute_result"
    }
   ],
   "source": [
    "user_data_source_1 = [\n",
    "    User(id=0, age=5, gender='male', social_contacts=20),\n",
    "    User(id=1, age=2, gender='female', social_contacts=24),\n",
    "    User(id=2, age=2, gender='female', social_contacts=50),\n",
    "    User(id=3, age=3, gender='female', social_contacts=80)\n",
    "]\n",
    "\n",
    "user_data_source_2 = [\n",
    "    User(id=0, age=5, gender='male', social_contacts=20),\n",
    "    User(id=1, age=2, gender='female', social_contacts=24),\n",
    "    User(id=3, age=2, gender='female', social_contacts=50),\n",
    "    User(id=4, age=3, gender='female', social_contacts=80)\n",
    "]\n",
    "\n",
    "all_user_data_sources = [user_data_source_1, user_data_source_2]\n",
    "\n",
    "def RECORDREADER():\n",
    "    \"\"\"Генератор, который поочередно возвращает пользователей из всех списков.\"\"\"\n",
    "    for source_id, user_list in enumerate(all_user_data_sources):\n",
    "        for user in user_list:\n",
    "            yield (source_id, user)\n",
    "\n",
    "def MAP(source_id: int, user: User):\n",
    "    \"\"\"Функция маппера: связывает пользователя с его источником данных.\"\"\"\n",
    "    yield (user, source_id)\n",
    "\n",
    "def REDUCE(user_key: User, source_list: list):\n",
    "    \"\"\"Функция редьюсера: оставляет только тех пользователей, которые есть только в первом списке.\"\"\"\n",
    "    if len(source_list) == 1 and source_list[0] == 0:\n",
    "        yield (user_key, user_key)\n",
    "\n",
    "map_reduce_output = list(MapReduce(RECORDREADER, MAP, REDUCE))\n",
    "map_reduce_output"
   ]
  },
  {
   "cell_type": "markdown",
   "metadata": {
    "id": "j8I58V2VwhSm"
   },
   "source": [
    "### Natural Join\n",
    "\n",
    "**The Map Function:** Для каждого кортежа $(a, b)$ отношения $R$, создайте пару $(b,(R, a))$. Для каждого кортежа $(b, c)$ отношения $S$, создайте пару $(b,(S, c))$.\n",
    "\n",
    "**The Reduce Function:** Каждый ключ $b$ будет асоциирован со списком пар, которые принимают форму либо $(R, a)$, либо $(S, c)$. Создайте все пары, одни, состоящие из  первого компонента $R$, а другие, из первого компонента $S$, то есть $(R, a)$ и $(S, c)$. На выходе вы получаете последовательность пар ключ-значение из списков ключей и значений. Ключ не нужен. Каждое значение, это тройка $(a, b, c)$ такая, что $(R, a)$ и $(S, c)$ это принадлежат входному списку значений."
   ]
  },
  {
   "cell_type": "code",
   "execution_count": 31,
   "metadata": {
    "ExecuteTime": {
     "end_time": "2024-03-20T20:56:06.648433Z",
     "start_time": "2024-03-20T20:56:06.624777Z"
    },
    "colab": {
     "base_uri": "https://localhost:8080/"
    },
    "id": "yHiuuTctw86I",
    "outputId": "203577be-100e-4b9f-c486-ed7e677530fd"
   },
   "outputs": [
    {
     "data": {
      "text/plain": [
       "[(1, 'female', 650), (2, 'female', 650), (4, 'female', 650), (3, 'male', 500)]"
      ]
     },
     "execution_count": 31,
     "metadata": {},
     "output_type": "execute_result"
    }
   ],
   "source": [
    "import numpy as np\n",
    "from typing import NamedTuple\n",
    "\n",
    "class UserProjection(NamedTuple):\n",
    "    id: int\n",
    "    gender: str\n",
    "\n",
    "class GenderSalary(NamedTuple):\n",
    "    gender: str\n",
    "    salary: int\n",
    "\n",
    "users = [\n",
    "    UserProjection(id=1, gender='female'),\n",
    "    UserProjection(id=2, gender='female'),\n",
    "    UserProjection(id=3, gender='male'),\n",
    "    UserProjection(id=4, gender='female')\n",
    "]\n",
    "\n",
    "salaries = [\n",
    "    GenderSalary(gender='male', salary=500),\n",
    "    GenderSalary(gender='female', salary=650)\n",
    "]\n",
    "\n",
    "data_list = [users, salaries]\n",
    "\n",
    "def RECORDREADER():\n",
    "    \"\"\"Генератор, который поочередно возвращает записи из всех списков.\"\"\"\n",
    "    for dataset_id, dataset in enumerate(data_list):\n",
    "        for obj in dataset:\n",
    "            yield (dataset_id, obj)\n",
    "\n",
    "def MAP(dataset_id: int, obj: NamedTuple):\n",
    "    \"\"\"Функция маппера: разделяет данные пользователей и зарплат.\"\"\"\n",
    "    if dataset_id == 0:\n",
    "        yield (obj.gender, (0, obj.id))  # Пользователь, отмеченный как (0, id)\n",
    "    else:\n",
    "        yield (obj.gender, (1, obj.salary))  # Зарплата, отмеченная как (1, salary)\n",
    "\n",
    "def REDUCE(gender: str, grouped_data: list):\n",
    "    \"\"\"Функция редьюсера: соединяет пользователей с их зарплатами по полу.\"\"\"\n",
    "    users_group = [entry for (dataset_id, entry) in grouped_data if dataset_id == 0]\n",
    "    salaries_group = [entry for (dataset_id, entry) in grouped_data if dataset_id == 1]\n",
    "    \n",
    "    for user_id in users_group:\n",
    "        for salary in salaries_group:\n",
    "            yield (user_id, gender, salary)\n",
    "\n",
    "map_reduce_output = MapReduce(RECORDREADER, MAP, REDUCE)\n",
    "final_output = list(map_reduce_output)\n",
    "final_output\n"
   ]
  },
  {
   "cell_type": "markdown",
   "metadata": {
    "id": "kYdlr0YUxE27"
   },
   "source": [
    "### Grouping and Aggregation (Группировка и аггрегация)\n",
    "\n",
    "**The Map Function:** Для каждого кортежа $(a, b, c$) создайте пару $(a, b)$.\n",
    "\n",
    "**The Reduce Function:** Ключ представляет ту или иную группу. Примените аггрегирующую операцию $\\theta$ к списку значений $[b1, b2, . . . , bn]$ ассоциированных с ключом $a$. Возвращайте в выходной поток $(a, x)$, где $x$ результат применения  $\\theta$ к списку. Например, если $\\theta$ это $SUM$, тогда $x = b1 + b2 + · · · + bn$, а если $\\theta$ is $MAX$, тогда $x$ это максимальное из значений $b1, b2, . . . , bn$."
   ]
  },
  {
   "cell_type": "code",
   "execution_count": 32,
   "metadata": {
    "ExecuteTime": {
     "end_time": "2024-03-20T20:56:07.254119Z",
     "start_time": "2024-03-20T20:56:07.228650Z"
    },
    "colab": {
     "base_uri": "https://localhost:8080/"
    },
    "id": "MLPckfEGxico",
    "outputId": "69150cbb-4833-43b7-d475-7a281cd8894c"
   },
   "outputs": [
    {
     "data": {
      "text/plain": [
       "[(0, 625), (1, 1800)]"
      ]
     },
     "execution_count": 32,
     "metadata": {},
     "output_type": "execute_result"
    }
   ],
   "source": [
    "class SalaryInfo(NamedTuple):\n",
    "    group_id: int\n",
    "    salary: int\n",
    "    gender: str\n",
    "\n",
    "\n",
    "class EmployeeData(NamedTuple):\n",
    "    gender: str\n",
    "    salary: int\n",
    "\n",
    "\n",
    "salary_group_1 = [\n",
    "    EmployeeData(gender='female', salary=150),\n",
    "    EmployeeData(gender='male', salary=50),\n",
    "    EmployeeData(gender='male', salary=85),\n",
    "    EmployeeData(gender='male', salary=90),\n",
    "    EmployeeData(gender='female', salary=250),\n",
    "]\n",
    "\n",
    "salary_group_2 = [\n",
    "    EmployeeData(gender='male', salary=200),\n",
    "    EmployeeData(gender='female', salary=350),\n",
    "    EmployeeData(gender='female', salary=550),\n",
    "    EmployeeData(gender='male', salary=650),\n",
    "    EmployeeData(gender='male', salary=50),\n",
    "]\n",
    "\n",
    "data_groups = [salary_group_1, salary_group_2]\n",
    "\n",
    "def RECORDREADER():\n",
    "    \"\"\"Функция-генератор: добавляет идентификатор группы к каждой записи.\"\"\"\n",
    "    for index, salary_list in enumerate(data_groups):\n",
    "        for record in salary_list:\n",
    "            yield (index, SalaryInfo(index, record.salary, record.gender))\n",
    "\n",
    "def MAP(group_id: int, salary_info: SalaryInfo):\n",
    "    \"\"\"Функция маппера: передает объект зарплаты дальше без изменений.\"\"\"\n",
    "    yield (group_id, salary_info.salary)\n",
    "\n",
    "def REDUCE(group_id: int, salaries: list):\n",
    "    \"\"\"Функция редьюсера: вычисляет суммарную зарплату по группам.\"\"\"\n",
    "    yield (group_id, sum(salaries))\n",
    "\n",
    "# Выполнение MapReduce\n",
    "output_result = MapReduce(RECORDREADER, MAP, REDUCE)\n",
    "output_result = list(output_result)\n",
    "output_result"
   ]
  },
  {
   "cell_type": "markdown",
   "metadata": {
    "id": "03IffTEOJgOb"
   },
   "source": [
    "#"
   ]
  },
  {
   "cell_type": "markdown",
   "metadata": {
    "id": "IIrRgvG4RIS4"
   },
   "source": [
    "### Matrix-Vector multiplication\n",
    "\n",
    "Случай, когда вектор не помещается в памяти Map задачи\n"
   ]
  },
  {
   "cell_type": "code",
   "execution_count": 33,
   "metadata": {
    "ExecuteTime": {
     "end_time": "2024-03-20T20:56:08.672467Z",
     "start_time": "2024-03-20T20:56:08.644471Z"
    },
    "colab": {
     "base_uri": "https://localhost:8080/"
    },
    "id": "UxD__Ob2W6e_",
    "outputId": "f5bc4135-8902-4868-dbd8-4703c79830c7"
   },
   "outputs": [
    {
     "name": "stdout",
     "output_type": "stream",
     "text": [
      "32 key-value pairs were sent over a network.\n"
     ]
    },
    {
     "data": {
      "text/plain": [
       "[(0, [(0, np.float64(8.0)), (1, np.float64(8.0)), (2, np.float64(8.0))]),\n",
       " (1, [])]"
      ]
     },
     "execution_count": 33,
     "metadata": {},
     "output_type": "execute_result"
    }
   ],
   "source": [
    "import numpy as np\n",
    "\n",
    "# Исходные данные: матрица и вектор\n",
    "matrix_data = np.ones((8, 4))\n",
    "vector_data = np.array([2, 4, 1, 1])\n",
    "\n",
    "num_mappers = 3\n",
    "num_reducers = 1\n",
    "\n",
    "def RECORDREADER():\n",
    "    \"\"\"Функция для разбиения матрицы на части и передачи в мапперы.\"\"\"\n",
    "    global num_mappers\n",
    "    \n",
    "    def record_reader(matrix_chunk):\n",
    "        for row_idx in range(matrix_chunk.shape[0]):\n",
    "            for col_idx in range(matrix_chunk.shape[1]):\n",
    "                yield ((row_idx, col_idx), (matrix_chunk[row_idx, col_idx], vector_data[col_idx], matrix_chunk.shape[1]))\n",
    "    \n",
    "    chunk_size = int(np.ceil(len(matrix_data) / num_mappers))\n",
    "    \n",
    "    for i in range(0, len(matrix_data), chunk_size):\n",
    "        yield record_reader(matrix_data[i: i + chunk_size])\n",
    "\n",
    "def MAP(coords: (int, int), values: (int, int, int)):\n",
    "    \"\"\"Функция маппера: вычисляет произведение элемента матрицы и соответствующего элемента вектора.\"\"\"\n",
    "    row, col = coords\n",
    "    matrix_value, vector_value, total_cols = values\n",
    "    yield ((row, total_cols), matrix_value * vector_value)\n",
    "\n",
    "def REDUCE(keys: (int, int), product_values: list):\n",
    "    \"\"\"Функция редьюсера: вычисляет среднее значение произведений для строки.\"\"\"\n",
    "    row, total_cols = keys\n",
    "    yield (row, sum(product_values) / (len(product_values) / total_cols))\n",
    "\n",
    "# Запуск MapReduce\n",
    "result = MapReduceDistributed(RECORDREADER, MAP, REDUCE, COMBINER=None)\n",
    "result = [(partition_id, list(partition)) for (partition_id, partition) in result]\n",
    "\n",
    "result"
   ]
  },
  {
   "cell_type": "markdown",
   "metadata": {
    "id": "GIo2t7nNxvA9"
   },
   "source": [
    "## Matrix multiplication (Перемножение матриц)\n",
    "\n",
    "Если у нас есть матрица $M$ с элементами $m_{ij}$ в строке $i$ и столбце $j$, и матрица $N$ с элементами $n_{jk}$ в строке $j$ и столбце $k$, тогда их произведение $P = MN$ есть матрица $P$ с элементами $p_{ik}$ в строке $i$ и столбце $k$, где\n",
    "\n",
    "$$p_{ik} =\\sum_{j} m_{ij}n_{jk}$$\n",
    "\n",
    "Необходимым требованием является одинаковое количество столбцов в $M$ и строк в $N$, чтобы операция суммирования по  $j$ была осмысленной. Мы можем размышлять о матрице, как об отношении с тремя атрибутами: номер строки, номер столбца, само значение. Таким образом матрица $M$ предстваляется как отношение $ M(I, J, V )$, с кортежами $(i, j, m_{ij})$, и, аналогично, матрица $N$ представляется как отношение $N(J, K, W)$, с кортежами $(j, k, n_{jk})$. Так как большие матрицы как правило разреженные (большинство значений равно 0), и так как мы можем нулевыми значениями пренебречь (не хранить), такое реляционное представление достаточно эффективно для больших матриц. Однако, возможно, что координаты $i$, $j$, и $k$ неявно закодированы в смещение позиции элемента относительно начала файла, вместо явного хранения. Тогда, функция Map (или Reader) должна быть разработана таким образом, чтобы реконструировать компоненты $I$, $J$, и $K$ кортежей из смещения.\n",
    "\n",
    "Произведение $MN$ это фактически join, за которым следуют группировка по ключу и аггрегация. Таким образом join отношений $M(I, J, V )$ и $N(J, K, W)$, имеющих общим только атрибут $J$, создаст кортежи $(i, j, k, v, w)$ из каждого кортежа $(i, j, v) \\in M$ и кортежа $(j, k, w) \\in N$. Такой 5 компонентный кортеж представляет пару элементов матрицы $(m_{ij} , n_{jk})$. Что нам хотелось бы получить на самом деле, это произведение этих элементов, то есть, 4 компонентный кортеж$(i, j, k, v \\times w)$, так как он представляет произведение $m_{ij}n_{jk}$. Мы представляем отношение как результат одной MapReduce операции, в которой мы можем произвести группировку и аггрегацию, с $I$ и $K$  атрибутами, по которым идёт группировка, и суммой  $V \\times W$.\n",
    "\n",
    "\n",
    "\n"
   ]
  },
  {
   "cell_type": "code",
   "execution_count": 34,
   "metadata": {
    "ExecuteTime": {
     "end_time": "2024-03-20T20:56:09.884098Z",
     "start_time": "2024-03-20T20:56:09.870099Z"
    },
    "id": "1MBkGaLAYVCt"
   },
   "outputs": [],
   "source": [
    "# MapReduce model\n",
    "def flatten(nested_iterable):\n",
    "  for iterable in nested_iterable:\n",
    "    for element in iterable:\n",
    "      yield element\n",
    "\n",
    "def groupbykey(iterable):\n",
    "  t = {}\n",
    "  for (k2, v2) in iterable:\n",
    "    t[k2] = t.get(k2, []) + [v2]\n",
    "  return t.items()\n",
    "\n",
    "def MapReduce(RECORDREADER, MAP, REDUCE):\n",
    "  return flatten(map(lambda x: REDUCE(*x), groupbykey(flatten(map(lambda x: MAP(*x), RECORDREADER())))))"
   ]
  },
  {
   "cell_type": "markdown",
   "metadata": {
    "id": "sMspsOT0ZB35"
   },
   "source": [
    "Реализуйте перемножение матриц с использованием модельного кода MapReduce для одной машины в случае, когда одна матрица хранится в памяти, а другая генерируется RECORDREADER-ом."
   ]
  },
  {
   "cell_type": "code",
   "execution_count": 35,
   "metadata": {
    "ExecuteTime": {
     "end_time": "2024-03-20T20:56:11.078434Z",
     "start_time": "2024-03-20T20:56:11.057985Z"
    },
    "id": "psP1XekbsEjS"
   },
   "outputs": [],
   "source": [
    "import numpy as np\n",
    "\n",
    "I = 2\n",
    "J = 3\n",
    "K = 4 * 10\n",
    "\n",
    "small_mat = np.random.rand(I, J)  # Маленькая матрица, доступная во всех функциях\n",
    "big_mat = np.random.rand(J, K)    # Большая матрица\n",
    "\n",
    "def RECORDREADER():\n",
    "    \"\"\"Читает данные из большой матрицы и передает их в формате (индекс, значение).\"\"\"\n",
    "    for j in range(big_mat.shape[0]):\n",
    "        for k in range(big_mat.shape[1]):\n",
    "            yield ((j, k), big_mat[j, k])\n",
    "\n",
    "def MAP(coordinates: (int, int), value: int):\n",
    "    \"\"\"Функция маппера: берет значение из большой матрицы и умножает его на соответствующие элементы маленькой матрицы.\"\"\"\n",
    "    j, k = coordinates\n",
    "    # Проходим по строкам маленькой матрицы\n",
    "    # Индекс строки выходной матрицы — это строка из маленькой матрицы\n",
    "    # Индекс столбца выходной матрицы — это столбец из большой матрицы\n",
    "    for row in range(small_mat.shape[0]):\n",
    "        yield ((row, k), value * small_mat[row][j])\n",
    "\n",
    "def REDUCE(key, values):\n",
    "    \"\"\"Функция редьюсера: суммирует значения, соответствующие одному индексу в выходной матрице.\"\"\"\n",
    "    yield (key, sum(values))\n"
   ]
  },
  {
   "cell_type": "markdown",
   "metadata": {
    "id": "rnt306LHhHrm"
   },
   "source": [
    "Проверьте своё решение"
   ]
  },
  {
   "cell_type": "code",
   "execution_count": 36,
   "metadata": {
    "ExecuteTime": {
     "end_time": "2024-03-20T20:56:12.356021Z",
     "start_time": "2024-03-20T20:56:12.347024Z"
    },
    "colab": {
     "base_uri": "https://localhost:8080/"
    },
    "id": "Ewy_ZNYqW5a2",
    "outputId": "f0d4ff29-a83c-4f89-d976-2f659994fb46"
   },
   "outputs": [
    {
     "data": {
      "text/plain": [
       "True"
      ]
     },
     "execution_count": 36,
     "metadata": {},
     "output_type": "execute_result"
    }
   ],
   "source": [
    "# CHECK THE SOLUTION\n",
    "reference_solution = np.matmul(small_mat, big_mat)\n",
    "solution = MapReduce(RECORDREADER, MAP, REDUCE)\n",
    "\n",
    "def asmatrix(reduce_output):\n",
    "  reduce_output = list(reduce_output)\n",
    "  I = max(i for ((i,k), vw) in reduce_output) + 1\n",
    "  K = max(k for ((i,k), vw) in reduce_output) + 1\n",
    "  mat = np.empty(shape=(I,K))\n",
    "  for ((i,k), vw) in reduce_output:\n",
    "    mat[i,k] = vw\n",
    "  return mat\n",
    "\n",
    "np.allclose(reference_solution, asmatrix(solution)) # should return true"
   ]
  },
  {
   "cell_type": "code",
   "execution_count": 37,
   "metadata": {
    "ExecuteTime": {
     "end_time": "2024-03-20T20:56:15.542380Z",
     "start_time": "2024-03-20T20:56:15.534373Z"
    },
    "colab": {
     "base_uri": "https://localhost:8080/"
    },
    "id": "TK7v4CEcfxqf",
    "outputId": "fb585700-1cf4-4ba6-c5d1-01b44f3dc9d8"
   },
   "outputs": [
    {
     "data": {
      "text/plain": [
       "1"
      ]
     },
     "execution_count": 37,
     "metadata": {},
     "output_type": "execute_result"
    }
   ],
   "source": [
    "reduce_output = list(MapReduce(RECORDREADER, MAP, REDUCE))\n",
    "max(i for ((i,k), vw) in reduce_output)"
   ]
  },
  {
   "cell_type": "markdown",
   "metadata": {
    "id": "i4yyg3kOZqJJ"
   },
   "source": [
    "Реализуйте перемножение матриц  с использованием модельного кода MapReduce для одной машины в случае, когда обе матрицы генерируются в RECORDREADER. Например, сначала одна, а потом другая."
   ]
  },
  {
   "cell_type": "code",
   "execution_count": 38,
   "metadata": {
    "ExecuteTime": {
     "end_time": "2024-03-20T20:56:16.975604Z",
     "start_time": "2024-03-20T20:56:16.953606Z"
    },
    "colab": {
     "base_uri": "https://localhost:8080/"
    },
    "id": "3B7rIAJCaHZq",
    "outputId": "0cd70836-827e-473a-f83b-0beda0725ebe"
   },
   "outputs": [
    {
     "data": {
      "text/plain": [
       "True"
      ]
     },
     "execution_count": 38,
     "metadata": {},
     "output_type": "execute_result"
    }
   ],
   "source": [
    "def RECORDREADER():\n",
    "    \"\"\"Генерирует элементы маленькой и большой матриц в виде пар (индекс, значение).\"\"\"\n",
    "    # Сначала записываем данные из маленькой матрицы\n",
    "    for k in range(big_mat.shape[1]):\n",
    "        for i in range(small_mat.shape[0]):\n",
    "            for j in range(small_mat.shape[1]):\n",
    "                yield ((i, k), (0, small_mat[i, j]))\n",
    "\n",
    "    # Затем добавляем элементы большой матрицы\n",
    "    for j in range(big_mat.shape[0]):\n",
    "        for i in range(small_mat.shape[0]):\n",
    "            for k in range(big_mat.shape[1]):\n",
    "                yield ((i, k), (1, big_mat[j, k]))\n",
    "\n",
    "\n",
    "def MAP(coordinates: (int, int), values: (int, int)):\n",
    "    \"\"\"Передает входные данные дальше без изменений.\"\"\"\n",
    "    yield (coordinates, values)\n",
    "\n",
    "\n",
    "def REDUCE(coordinates: (int, int), values: list):\n",
    "    \"\"\"Умножает соответствующие элементы маленькой и большой матриц, затем суммирует их.\"\"\"\n",
    "    big_mat_vals = [val for mat_idx, val in values if mat_idx == 1]\n",
    "    small_mat_vals = [val for mat_idx, val in values if mat_idx == 0]\n",
    "    yield (coordinates, np.dot(small_mat_vals, big_mat_vals))\n",
    "\n",
    "\n",
    "output = MapReduce(RECORDREADER, MAP, REDUCE)\n",
    "\n",
    "# Проверка корректности результата\n",
    "np.allclose(reference_solution, asmatrix(output))  # Должно вернуть True\n"
   ]
  },
  {
   "cell_type": "markdown",
   "metadata": {
    "id": "mXyzQi1DaIwo"
   },
   "source": [
    "Реализуйте перемножение матриц с использованием модельного кода MapReduce Distributed, когда каждая матрица генерируется в своём RECORDREADER."
   ]
  },
  {
   "cell_type": "code",
   "execution_count": 39,
   "metadata": {
    "ExecuteTime": {
     "end_time": "2024-03-20T20:56:18.476583Z",
     "start_time": "2024-03-20T20:56:18.444207Z"
    },
    "colab": {
     "base_uri": "https://localhost:8080/"
    },
    "id": "TDM_s78Rb5eR",
    "outputId": "1117cdda-53f9-4b5e-a3b3-87da933f27af"
   },
   "outputs": [
    {
     "name": "stdout",
     "output_type": "stream",
     "text": [
      "480 key-value pairs were sent over a network.\n"
     ]
    },
    {
     "data": {
      "text/plain": [
       "True"
      ]
     },
     "execution_count": 39,
     "metadata": {},
     "output_type": "execute_result"
    }
   ],
   "source": [
    "maps = 2  # Количество мапперов\n",
    "reducers = 1  # Количество редьюсеров\n",
    "\n",
    "def INPUTFORMAT():\n",
    "    \"\"\"Определяет, как данные разбиваются на части перед обработкой.\"\"\"\n",
    "\n",
    "    global maps\n",
    "    num_small_rows = small_mat.shape[0]\n",
    "    num_big_rows = big_mat.shape[0]\n",
    "\n",
    "    # Генерируем записи из маленькой матрицы\n",
    "    def RECORDREADER_SMALL(small_chunk, row_offset):\n",
    "        \"\"\"Обрабатывает фрагмент маленькой матрицы и создает пары (координаты, значение).\"\"\"\n",
    "        for col_idx in range(big_mat.shape[1]):\n",
    "            for row_idx in range(small_chunk.shape[0]):\n",
    "                for inner_idx in range(small_chunk.shape[1]):\n",
    "                    yield ((row_idx + row_offset, col_idx), (0, small_chunk[row_idx, inner_idx]))\n",
    "\n",
    "    chunk_size = int(np.ceil(num_small_rows / maps))\n",
    "    for row in range(0, num_small_rows, chunk_size):\n",
    "        yield RECORDREADER_SMALL(small_mat[row: row + chunk_size], row)\n",
    "\n",
    "    # Генерируем записи из большой матрицы\n",
    "    def RECORDREADER_BIG(big_chunk):\n",
    "        \"\"\"Обрабатывает фрагмент большой матрицы и создает пары (координаты, значение).\"\"\"\n",
    "        for row_idx in range(num_small_rows):\n",
    "            for inner_idx in range(big_chunk.shape[0]):\n",
    "                for col_idx in range(big_chunk.shape[1]):\n",
    "                    yield ((row_idx, col_idx), (1, big_chunk[inner_idx, col_idx]))\n",
    "\n",
    "    chunk_size = int(np.ceil(num_big_rows / maps))\n",
    "    for row in range(0, num_big_rows, chunk_size):\n",
    "        yield RECORDREADER_BIG(big_mat[row: row + chunk_size])\n",
    "\n",
    "\n",
    "def MAP(coords: (int, int), values: (int, int)):\n",
    "    \"\"\"Передает входные данные дальше без изменений.\"\"\"\n",
    "    yield (coords, values)\n",
    "\n",
    "\n",
    "def REDUCE(coords: (int, int), values: list):\n",
    "    \"\"\"Обрабатывает пары значений из маленькой и большой матриц и выполняет их скалярное произведение.\"\"\"\n",
    "    small_values = [val for mat_type, val in values if mat_type == 0]\n",
    "    big_values = [val for mat_type, val in values if mat_type == 1]\n",
    "    yield (coords, np.dot(small_values, big_values))\n",
    "\n",
    "\n",
    "partitioned_output = MapReduceDistributed(INPUTFORMAT, MAP, REDUCE, COMBINER=None)\n",
    "partitioned_output = [(partition_id, list(partition)) for (partition_id, partition) in partitioned_output]\n",
    "\n",
    "\n",
    "def asmatrix_distributed(mapped_results):\n",
    "    \"\"\"Преобразует результаты распределенного вычисления в матричный формат.\"\"\"\n",
    "    merged_results = []\n",
    "\n",
    "    for _, values in mapped_results:\n",
    "        for value in values:\n",
    "            merged_results.append(value)\n",
    "\n",
    "    # Объединяем одинаковые ключи, суммируя значения\n",
    "    combined_dict = {}\n",
    "    for key, value in merged_results:\n",
    "        if key in combined_dict:\n",
    "            combined_dict[key] += value\n",
    "        else:\n",
    "            combined_dict[key] = value\n",
    "\n",
    "    # Конвертируем в формат кортежей\n",
    "    return asmatrix((key, val) for key, val in combined_dict.items())\n",
    "\n",
    "\n",
    "# Проверяем корректность вычислений\n",
    "np.allclose(reference_solution, asmatrix_distributed(partitioned_output))  # Должно вернуть True"
   ]
  },
  {
   "cell_type": "markdown",
   "metadata": {
    "id": "ZuSA2P9Db6UM"
   },
   "source": [
    "Обобщите предыдущее решение на случай, когда каждая матрица генерируется несколькими RECORDREADER-ами, и проверьте его работоспособность. Будет ли работать решение, если RECORDREADER-ы будут генерировать случайное подмножество элементов матрицы?"
   ]
  },
  {
   "cell_type": "code",
   "execution_count": 40,
   "metadata": {
    "ExecuteTime": {
     "end_time": "2024-03-20T20:56:20.391103Z",
     "start_time": "2024-03-20T20:56:20.380106Z"
    },
    "id": "Up5EHvS-MOI_"
   },
   "outputs": [],
   "source": [
    "import random\n",
    "\n",
    "def randomize_indices(matrix):\n",
    "    \"\"\"Создает список индексов элементов матрицы и перемешивает его случайным образом.\n",
    "    \n",
    "    Это позволяет моделировать случайный порядок выдачи элементов, что может использоваться \n",
    "    при разбиении данных между различными RECORDREADER-ами.\n",
    "    \"\"\"\n",
    "    shuffled_indices = [(row, col) for row in range(matrix.shape[0]) for col in range(matrix.shape[1])]\n",
    "    random.shuffle(shuffled_indices)\n",
    "    return shuffled_indices\n",
    "\n",
    "# Ответ на вопрос:\n",
    "# Если RECORDREADER-ы будут выдавать случайное подмножество элементов матрицы,\n",
    "# то стандартная обработка MapReduce может не сработать корректно, \n",
    "# поскольку возможны пропуски данных. Однако, если в конечном итоге будут\n",
    "# собраны все элементы, то алгоритм суммирования и умножения по ключам \n",
    "# все равно отработает правильно.\n"
   ]
  },
  {
   "cell_type": "markdown",
   "metadata": {
    "id": "jaF24mClbEEU"
   },
   "source": [
    "### Рандомное распределение с использованием REDUCER'ов и RECORDREADER'ов"
   ]
  },
  {
   "cell_type": "code",
   "execution_count": 41,
   "metadata": {
    "ExecuteTime": {
     "end_time": "2024-03-20T20:56:27.798168Z",
     "start_time": "2024-03-20T20:56:27.758082Z"
    },
    "collapsed": false
   },
   "outputs": [
    {
     "name": "stdout",
     "output_type": "stream",
     "text": [
      "480 key-value pairs were sent over a network.\n"
     ]
    },
    {
     "data": {
      "text/plain": [
       "True"
      ]
     },
     "execution_count": 41,
     "metadata": {},
     "output_type": "execute_result"
    }
   ],
   "source": [
    "maps = 2\n",
    "reducers = 1\n",
    "\n",
    "def INPUTFORMAT():\n",
    "    \"\"\"Разбивает данные на небольшие части для параллельной обработки в MapReduce.\"\"\"\n",
    "    global maps\n",
    "    num_small_rows = small_mat.shape[0]\n",
    "    num_small_cols = small_mat.shape[1]\n",
    "\n",
    "    num_big_rows = big_mat.shape[0]\n",
    "    num_big_cols = big_mat.shape[1]\n",
    "\n",
    "    # Читаем части малой матрицы и сопоставляем с большой\n",
    "    def READ_SMALL_PART1(submatrix, index_pair):\n",
    "        row_idx, col_idx = index_pair\n",
    "        for col in range(num_big_cols):\n",
    "            for i in range(submatrix.shape[0]):\n",
    "                for j in range(submatrix.shape[1]):\n",
    "                    yield ((i + row_idx, col), (0, col_idx, submatrix[i, j]))\n",
    "\n",
    "    def READ_SMALL_PART2(submatrix, index_pair):\n",
    "        row_idx, col_idx = index_pair\n",
    "        for col in range(num_big_cols):\n",
    "            for i in range(submatrix.shape[0]):\n",
    "                for j in range(submatrix.shape[1]):\n",
    "                    yield ((i + row_idx, col), (0, col_idx, submatrix[i, j]))\n",
    "\n",
    "    # Читаем части большой матрицы и сопоставляем с малой\n",
    "    def READ_BIG_PART1(submatrix, index_pair):\n",
    "        row_idx, col_idx = index_pair\n",
    "        for i in range(num_small_rows):\n",
    "            for j in range(submatrix.shape[0]):\n",
    "                for k in range(submatrix.shape[1]):\n",
    "                    yield ((i, k + col_idx), (1, row_idx, submatrix[j, k]))\n",
    "\n",
    "    def READ_BIG_PART2(submatrix, index_pair):\n",
    "        row_idx, col_idx = index_pair\n",
    "        for i in range(num_small_rows):\n",
    "            for j in range(submatrix.shape[0]):\n",
    "                for k in range(submatrix.shape[1]):\n",
    "                    yield ((i, k + col_idx), (1, row_idx, submatrix[j, k]))\n",
    "\n",
    "    # Списки обработчиков данных\n",
    "    small_matrix_readers = {\n",
    "        0: READ_SMALL_PART1,\n",
    "        1: READ_SMALL_PART2\n",
    "    }\n",
    "\n",
    "    big_matrix_readers = {\n",
    "        0: READ_BIG_PART1,\n",
    "        1: READ_BIG_PART2\n",
    "    }\n",
    "\n",
    "    # Разбиваем малую матрицу по индексам и обрабатываем\n",
    "    read_counter = -1\n",
    "    small_matrix_indices = randomize_indices(small_mat)\n",
    "    for (row, col) in small_matrix_indices:\n",
    "        read_counter += 1\n",
    "        yield small_matrix_readers[read_counter % len(small_matrix_readers)](np.array([[small_mat[row, col]]]), (row, col))\n",
    "\n",
    "    # Разбиваем большую матрицу по индексам и обрабатываем\n",
    "    read_counter = -1\n",
    "    big_matrix_indices = randomize_indices(big_mat)\n",
    "    for (row, col) in big_matrix_indices:\n",
    "        read_counter += 1\n",
    "        yield big_matrix_readers[read_counter % len(big_matrix_readers)](np.array([[big_mat[row, col]]]), (row, col))\n",
    "\n",
    "\n",
    "def MAP(coords: (int, int), values: (int, int, int)):\n",
    "    \"\"\"Передает данные без изменений, распределяя их по ключу.\"\"\"\n",
    "    yield (coords, values)\n",
    "\n",
    "\n",
    "def REDUCE(coords: (int, int), values: list):\n",
    "    \"\"\"Сортирует и выполняет скалярное произведение соответствующих значений из двух матриц.\"\"\"\n",
    "    sorted_values = sorted(values, key=lambda item: item[1])  # Сортировка по индексу строки/столбца\n",
    "    small_values = [val for mat_type, col_idx, val in sorted_values if mat_type == 0]\n",
    "    big_values = [val for mat_type, row_idx, val in sorted_values if mat_type == 1]\n",
    "    yield (coords, np.dot(small_values, big_values))\n",
    "\n",
    "\n",
    "partitioned_output = MapReduceDistributed(INPUTFORMAT, MAP, REDUCE, COMBINER=None)\n",
    "partitioned_output = [(partition_id, list(partition)) for (partition_id, partition) in partitioned_output]\n",
    "\n",
    "# Проверяем, совпадает ли результат с эталонным решением\n",
    "np.allclose(reference_solution, asmatrix_distributed(partitioned_output))  # Должно вернуть True"
   ]
  },
  {
   "cell_type": "code",
   "execution_count": null,
   "metadata": {
    "collapsed": false
   },
   "outputs": [],
   "source": []
  }
 ],
 "metadata": {
  "colab": {
   "provenance": []
  },
  "kernelspec": {
   "display_name": "Python 3",
   "language": "python",
   "name": "python3"
  },
  "language_info": {
   "codemirror_mode": {
    "name": "ipython",
    "version": 3
   },
   "file_extension": ".py",
   "mimetype": "text/x-python",
   "name": "python",
   "nbconvert_exporter": "python",
   "pygments_lexer": "ipython3",
   "version": "3.12.3"
  }
 },
 "nbformat": 4,
 "nbformat_minor": 0
}
