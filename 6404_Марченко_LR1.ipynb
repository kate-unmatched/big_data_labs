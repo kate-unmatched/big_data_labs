{
 "cells": [
  {
   "cell_type": "markdown",
   "id": "bae721dc",
   "metadata": {},
   "source": [
    "# Лабораторная работа №1\n",
    "\n",
    "## Содержание:\n",
    "\n",
    "- найти велосипед с максимальным временем пробега\n",
    "- найти наибольшей геодезическое расстояние между станциями\n",
    "- найти путь велосипеда с максимальным временем пробега через станции\n",
    "- найти количество велосипедов в системе\n",
    "- найти пользователей потративших на поездки более 3 часов"
   ]
  },
  {
   "cell_type": "markdown",
   "id": "779ac131",
   "metadata": {},
   "source": [
    "### 1. Импортируем библиотеки и изучаем датасеты"
   ]
  },
  {
   "cell_type": "code",
   "execution_count": 8,
   "id": "f99b1517",
   "metadata": {},
   "outputs": [],
   "source": [
    "from pyspark.sql import SparkSession\n",
    "import pyspark.sql.functions as F\n",
    "import pyspark.sql.types as t\n",
    "from geopy.distance import geodesic\n",
    "import pandas as pd\n",
    "from itertools import combinations"
   ]
  },
  {
   "cell_type": "code",
   "execution_count": 9,
   "id": "1c96f8c8",
   "metadata": {},
   "outputs": [
    {
     "name": "stdout",
     "output_type": "stream",
     "text": [
      "+---+--------------------+------------------+-------------------+----------+--------+-----------------+\n",
      "| id|                name|               lat|               long|dock_count|    city|installation_date|\n",
      "+---+--------------------+------------------+-------------------+----------+--------+-----------------+\n",
      "|  2|San Jose Diridon ...|         37.329732|-121.90178200000001|        27|San Jose|         8/6/2013|\n",
      "|  3|San Jose Civic Ce...|         37.330698|        -121.888979|        15|San Jose|         8/5/2013|\n",
      "|  4|Santa Clara at Al...|         37.333988|        -121.894902|        11|San Jose|         8/6/2013|\n",
      "|  5|    Adobe on Almaden|         37.331415|          -121.8932|        19|San Jose|         8/5/2013|\n",
      "|  6|    San Pedro Square|37.336721000000004|        -121.894074|        15|San Jose|         8/7/2013|\n",
      "+---+--------------------+------------------+-------------------+----------+--------+-----------------+\n",
      "only showing top 5 rows\n",
      "\n",
      "+----+--------+--------------+--------------------+----------------+--------------+--------------------+--------------+-------+-----------------+--------+\n",
      "|  id|duration|    start_date|  start_station_name|start_station_id|      end_date|    end_station_name|end_station_id|bike_id|subscription_type|zip_code|\n",
      "+----+--------+--------------+--------------------+----------------+--------------+--------------------+--------------+-------+-----------------+--------+\n",
      "|4069|     174|8/29/2013 9:08|   2nd at South Park|              64|8/29/2013 9:11|   2nd at South Park|            64|    288|       Subscriber|   94114|\n",
      "|4073|    1067|8/29/2013 9:24|South Van Ness at...|              66|8/29/2013 9:42|San Francisco Cal...|            69|    321|       Subscriber|   94703|\n",
      "|4074|    1131|8/29/2013 9:24|South Van Ness at...|              66|8/29/2013 9:43|San Francisco Cal...|            69|    317|       Subscriber|   94115|\n",
      "|4075|    1117|8/29/2013 9:24|South Van Ness at...|              66|8/29/2013 9:43|San Francisco Cal...|            69|    316|       Subscriber|   94122|\n",
      "|4076|    1118|8/29/2013 9:25|South Van Ness at...|              66|8/29/2013 9:43|San Francisco Cal...|            69|    322|       Subscriber|   94597|\n",
      "+----+--------+--------------+--------------------+----------------+--------------+--------------------+--------------+-------+-----------------+--------+\n",
      "only showing top 5 rows\n",
      "\n"
     ]
    }
   ],
   "source": [
    "def create_spark_session():\n",
    "    \"\"\"Создание и настройка SparkSession.\"\"\"\n",
    "    return SparkSession.builder \\\n",
    "        .appName(\"CSV Data Processing\") \\\n",
    "        .getOrCreate()\n",
    "\n",
    "\n",
    "def load_csv_data(spark_session, file_path):\n",
    "    \"\"\"Чтение CSV файла в DataFrame.\"\"\"\n",
    "    return spark_session.read.format('csv') \\\n",
    "        .option('header', 'true') \\\n",
    "        .load(file_path)\n",
    "\n",
    "\n",
    "spark_session = create_spark_session()\n",
    "\n",
    "# Чтение данных из CSV файлов\n",
    "station_data = load_csv_data(spark_session, 'station.csv')\n",
    "trip_data = load_csv_data(spark_session, 'trip.csv')\n",
    "\n",
    "station_data.show(5)\n",
    "trip_data.show(5)\n"
   ]
  },
  {
   "cell_type": "markdown",
   "id": "5a8969ee",
   "metadata": {},
   "source": [
    "### 2. Задания"
   ]
  },
  {
   "cell_type": "markdown",
   "id": "f861813d",
   "metadata": {},
   "source": [
    "#### 2.1  Найти велосипед с максимальным временем пробега"
   ]
  },
  {
   "cell_type": "code",
   "execution_count": 10,
   "id": "5d438a78",
   "metadata": {},
   "outputs": [
    {
     "name": "stdout",
     "output_type": "stream",
     "text": [
      "The bike with ID 535 has the maximum total duration: 18611693.0 seconds.\n"
     ]
    }
   ],
   "source": [
    "from pyspark.sql import functions as F\n",
    "\n",
    "# Grouping by bike_id and summing the duration for each bike\n",
    "bike_total_duration_df = trip_data.groupBy(\"bike_id\").agg(\n",
    "    F.sum(\"duration\").alias(\"total_duration\")\n",
    ")\n",
    "\n",
    "# Finding the bike with the maximum total duration\n",
    "max_duration_bike = bike_total_duration_df.orderBy(F.desc(\"total_duration\")).limit(1).collect()[0]\n",
    "\n",
    "print(f\"The bike with ID {max_duration_bike['bike_id']} has the maximum total duration: {max_duration_bike['total_duration']} seconds.\")"
   ]
  },
  {
   "cell_type": "markdown",
   "id": "96e95ce8",
   "metadata": {},
   "source": [
    "#### 2.2 Найти наибольшей геодезическое расстояние между станциями"
   ]
  },
  {
   "cell_type": "code",
   "execution_count": null,
   "id": "cd6ca847",
   "metadata": {},
   "outputs": [
    {
     "name": "stdout",
     "output_type": "stream",
     "text": [
      "The maximum geodesic distance is between stations 16 and 60 with a distance of 69.9212704912406 kilometers.\n"
     ]
    }
   ],
   "source": [
    "from pyspark.sql import SparkSession\n",
    "from geopy.distance import geodesic\n",
    "from itertools import combinations\n",
    "import pandas as pd\n",
    "\n",
    "spark = SparkSession.builder \\\n",
    "    .appName(\"Max Geodesic Distance\") \\\n",
    "    .getOrCreate()\n",
    "\n",
    "stations_df = spark.read.format('csv').option('header', 'true').load('station.csv')\n",
    "\n",
    "# Преобразуем широту и долготу в числовой формат\n",
    "stations_df = stations_df.withColumn(\"lat\", stations_df[\"lat\"].cast(\"float\")) \\\n",
    "                          .withColumn(\"long\", stations_df[\"long\"].cast(\"float\"))\n",
    "\n",
    "# Собираем все станции в список\n",
    "stations = stations_df.select(\"id\", \"lat\", \"long\").collect()\n",
    "\n",
    "# Вычисление расстояний между всеми парами станций с использованием geopy\n",
    "max_distance = 0\n",
    "station_pair = None\n",
    "distance_list = []\n",
    "\n",
    "for station1, station2 in combinations(stations, 2):\n",
    "    # Получаем координаты двух станций\n",
    "    coord1 = (station1['lat'], station1['long'])\n",
    "    coord2 = (station2['lat'], station2['long'])\n",
    "    \n",
    "    # Вычисляем геодезическое расстояние\n",
    "    distance = geodesic(coord1, coord2).kilometers\n",
    "    \n",
    "    distance_list.append({\n",
    "        'station_1_id': station1['id'],\n",
    "        'station_2_id': station2['id'],\n",
    "        'distance_km': distance\n",
    "    })\n",
    "    \n",
    "    # Обновляем максимальное расстояние и соответствующую пару станций\n",
    "    if distance > max_distance:\n",
    "        max_distance = distance\n",
    "        station_pair = (station1['id'], station2['id'])\n",
    "\n",
    "\n",
    "# Выводим результат с максимальным расстоянием\n",
    "print(f\"The maximum geodesic distance is between stations {station_pair[0]} and {station_pair[1]} with a distance of {max_distance} kilometers.\")"
   ]
  },
  {
   "cell_type": "markdown",
   "id": "10884c84",
   "metadata": {},
   "source": [
    "### 2.3 Найти путь велосипеда с максимальным временем пробега через станции"
   ]
  },
  {
   "cell_type": "code",
   "execution_count": null,
   "id": "153df602",
   "metadata": {},
   "outputs": [
    {
     "name": "stdout",
     "output_type": "stream",
     "text": [
      "Path for the bike with ID 535:\n",
      "Post at Kearney -> \n",
      "San Francisco Caltrain (Townsend at 4th) -> \n",
      "San Francisco Caltrain 2 (330 Townsend) -> \n",
      "Market at Sansome -> \n",
      "2nd at South Park -> \n",
      "2nd at Townsend -> \n",
      "Davis at Jackson -> \n",
      "San Francisco City Hall -> \n",
      "Civic Center BART (7th at Market) -> \n",
      "Embarcadero at Sansome -> \n",
      "Washington at Kearney -> \n",
      "2nd at Folsom -> \n",
      "Temporary Transbay Terminal (Howard at Beale) -> \n",
      "Clay at Battery -> \n",
      "Harry Bridges Plaza (Ferry Building) -> \n",
      "Steuart at Market -> \n",
      "Townsend at 7th -> \n",
      "5th at Howard -> \n",
      "Mechanics Plaza (Market at Battery) -> \n",
      "Powell at Post (Union Square) -> \n",
      "Market at 4th -> \n",
      "Market at 10th -> \n",
      "Beale at Market -> \n",
      "Golden Gate at Polk -> \n",
      "Powell Street BART -> \n",
      "Spear at Folsom -> \n",
      "Embarcadero at Vallejo -> \n",
      "Commercial at Montgomery -> \n",
      "Yerba Buena Center of the Arts (3rd @ Howard) -> \n",
      "Grant Avenue at Columbus Avenue -> \n",
      "Howard at 2nd -> \n",
      "Embarcadero at Bryant -> \n",
      "Embarcadero at Folsom -> \n",
      "South Van Ness at Market -> \n",
      "Broadway St at Battery St -> \n",
      "Post at Kearny -> \n",
      "Washington at Kearny\n"
     ]
    }
   ],
   "source": [
    "from pyspark.sql import SparkSession\n",
    "from pyspark.sql.functions import unix_timestamp, col\n",
    "from pyspark.sql import functions as F\n",
    "from itertools import combinations\n",
    "\n",
    "spark = SparkSession.builder \\\n",
    "    .appName(\"Max Geodesic Distance\") \\\n",
    "    .getOrCreate()\n",
    "\n",
    "trips_df_spark = trip_data\n",
    "\n",
    "# Преобразуем даты в метки времени и считаем длительность поездки в минутах\n",
    "trips_with_duration = trips_df_spark.withColumn(\n",
    "    \"start_timestamp\", unix_timestamp(col(\"start_date\"), \"M/d/yyyy H:mm\")\n",
    ").withColumn(\n",
    "    \"end_timestamp\", unix_timestamp(col(\"end_date\"), \"M/d/yyyy H:mm\")\n",
    ").withColumn(\n",
    "    \"duration_minutes\", (col(\"end_timestamp\") - col(\"start_timestamp\")) / 60\n",
    ")\n",
    "\n",
    "# Группируем по bike_id и находим велосипед с максимальным временем пробега\n",
    "bike_with_max_duration = trips_with_duration.groupBy(\"bike_id\").agg(\n",
    "    F.sum(\"duration_minutes\").alias(\"total_duration_minutes\")\n",
    ").orderBy(F.desc(\"total_duration_minutes\")).limit(1)\n",
    "\n",
    "# Получаем bike_id с максимальным временем пробега\n",
    "max_bike_id = bike_with_max_duration.collect()[0][\"bike_id\"]\n",
    "\n",
    "# Извлекаем все поездки для этого велосипеда\n",
    "bike_trips = trips_with_duration.filter(col(\"bike_id\") == max_bike_id)\n",
    "\n",
    "# Сортируем поездки по времени начала\n",
    "bike_trips_sorted = bike_trips.orderBy(\"start_timestamp\")\n",
    "\n",
    "# Извлекаем последовательность станций\n",
    "path_stations = bike_trips_sorted.select(\"start_station_name\", \"end_station_name\").collect()\n",
    "\n",
    "# Формируем путь через станции\n",
    "path = []\n",
    "for trip in path_stations:\n",
    "    path.append(trip[\"start_station_name\"])\n",
    "    path.append(trip[\"end_station_name\"])\n",
    "\n",
    "# Убираем дублирующиеся станции (если есть)\n",
    "path = list(dict.fromkeys(path))\n",
    "\n",
    "print(f\"Path for the bike with ID {max_bike_id}:\")\n",
    "print(\" -> \\n\".join(path))\n"
   ]
  },
  {
   "cell_type": "markdown",
   "id": "19f36d12",
   "metadata": {},
   "source": [
    "### 2.4 Найти количество велосипедов в системе"
   ]
  },
  {
   "cell_type": "code",
   "execution_count": 27,
   "id": "32ef7a5a",
   "metadata": {},
   "outputs": [
    {
     "name": "stdout",
     "output_type": "stream",
     "text": [
      "The number of unique bikes in the system is: 700\n"
     ]
    }
   ],
   "source": [
    "unique_bikes_count_spark = trips_df_spark.select(\"bike_id\").distinct().count()\n",
    "\n",
    "# Выводим результат\n",
    "print(f\"The number of unique bikes in the system is: {unique_bikes_count_spark}\")"
   ]
  },
  {
   "cell_type": "markdown",
   "id": "731e92cf",
   "metadata": {},
   "source": [
    "### 2.5 Найти пользователей потративших на поездки более 3 часов"
   ]
  },
  {
   "cell_type": "code",
   "execution_count": null,
   "id": "1be75373",
   "metadata": {},
   "outputs": [
    {
     "name": "stdout",
     "output_type": "stream",
     "text": [
      "+-------+----------------------+\n",
      "|bike_id|total_duration_minutes|\n",
      "+-------+----------------------+\n",
      "|    675|                6189.0|\n",
      "|    467|               15185.0|\n",
      "|    296|                8117.0|\n",
      "|    691|                4921.0|\n",
      "|    125|                2633.0|\n",
      "|    451|               28274.0|\n",
      "|    666|                2792.0|\n",
      "|    447|               25823.0|\n",
      "|    124|                6082.0|\n",
      "|    591|               34620.0|\n",
      "|     51|                6460.0|\n",
      "|    574|               32415.0|\n",
      "|    613|               40114.0|\n",
      "|    307|                6083.0|\n",
      "|    544|               27289.0|\n",
      "|    334|               31621.0|\n",
      "|    577|               27304.0|\n",
      "|    581|               30337.0|\n",
      "|    205|                2586.0|\n",
      "|    647|                4100.0|\n",
      "+-------+----------------------+\n",
      "only showing top 20 rows\n",
      "\n"
     ]
    }
   ],
   "source": [
    "# Преобразуем даты в метки времени и считаем длительность поездки в минутах\n",
    "trips_with_duration = trips_df_spark.withColumn(\n",
    "    \"start_timestamp\", unix_timestamp(\"start_date\", \"M/d/yyyy H:mm\")\n",
    ").withColumn(\n",
    "    \"end_timestamp\", unix_timestamp(\"end_date\", \"M/d/yyyy H:mm\")\n",
    ").withColumn(\n",
    "    \"duration_minutes\", (col(\"end_timestamp\") - col(\"start_timestamp\")) / 60\n",
    ")\n",
    "\n",
    "# Суммируем длительность поездок для каждого bike_id\n",
    "user_trip_duration = trips_with_duration.groupBy(\"bike_id\").agg(\n",
    "    F.sum(\"duration_minutes\").alias(\"total_duration_minutes\")\n",
    ")\n",
    "\n",
    "# Фильтруем пользователей, у которых суммарное время на поездках больше 180 минут (3 часа)\n",
    "users_above_3_hours = user_trip_duration.filter(col(\"total_duration_minutes\") > 180)\n",
    "\n",
    "users_above_3_hours.show()\n"
   ]
  }
 ],
 "metadata": {
  "kernelspec": {
   "display_name": "Python 3",
   "language": "python",
   "name": "python3"
  },
  "language_info": {
   "codemirror_mode": {
    "name": "ipython",
    "version": 3
   },
   "file_extension": ".py",
   "mimetype": "text/x-python",
   "name": "python",
   "nbconvert_exporter": "python",
   "pygments_lexer": "ipython3",
   "version": "3.12.3"
  }
 },
 "nbformat": 4,
 "nbformat_minor": 5
}
