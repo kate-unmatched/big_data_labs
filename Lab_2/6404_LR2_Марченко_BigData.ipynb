{
  "cells": [
    {
      "cell_type": "markdown",
      "metadata": {
        "id": "82OvPKEiEqjc"
      },
      "source": [
        "# Лабораторная 2. Формирование отчётов в Apache Spark\n",
        "\n",
        "## Задание\n",
        "\n",
        "Сформировать отчёт с информацией о 10 наиболее популярных языках программирования по итогам года за период с 2010 по 2020 годы. Отчёт будет отражать динамику изменения популярности языков программирования и представлять собой набор таблиц \"топ-10\" для каждого года.\n",
        "\n",
        "Получившийся отчёт сохранить в формате Apache Parquet.\n",
        "\n",
        "Для выполнения задания вы можете использовать любую комбинацию Spark API: RDD API, Dataset API, SQL API.\n"
      ]
    },
    {
      "cell_type": "code",
      "execution_count": 55,
      "metadata": {
        "ExecuteTime": {
          "end_time": "2024-03-20T20:55:54.676449Z",
          "start_time": "2024-03-20T20:55:54.661448Z"
        },
        "id": "JQ2cvXLjICmI"
      },
      "outputs": [],
      "source": [
        "from pyspark.sql import SparkSession\n",
        "from pyspark.sql.functions import col, rank, year, to_timestamp, count, row_number\n",
        "from pyspark.sql.window import Window\n",
        "from pyspark.sql.types import StructType, StructField, StringType\n",
        "from pyspark.sql import functions as F\n",
        "from pyspark.sql.window import Window\n",
        "from google.colab import files"
      ]
    },
    {
      "cell_type": "code",
      "execution_count": 56,
      "metadata": {
        "id": "Pm0J-TyYMwMm"
      },
      "outputs": [],
      "source": [
        "spark = SparkSession.builder \\\n",
        "    .appName(\"ReportOfTopProgrammingLanguages\") \\\n",
        "    .getOrCreate()"
      ]
    },
    {
      "cell_type": "code",
      "execution_count": 57,
      "metadata": {
        "ExecuteTime": {
          "end_time": "2024-03-20T20:55:55.185985Z",
          "start_time": "2024-03-20T20:55:55.177988Z"
        },
        "id": "yjPHumVwEyEg",
        "colab": {
          "base_uri": "https://localhost:8080/"
        },
        "outputId": "dcf066be-563b-4409-893d-684ec0442eb3"
      },
      "outputs": [
        {
          "output_type": "stream",
          "name": "stdout",
          "text": [
            "('2008-07-31T21:42:52.667', 'c#')\n",
            "('2008-07-31T21:42:52.667', 'floating-point')\n",
            "('2008-07-31T21:42:52.667', 'type-conversion')\n",
            "('2008-07-31T21:42:52.667', 'double')\n",
            "('2008-07-31T21:42:52.667', 'decimal')\n",
            "('2008-07-31T22:08:08.620', 'html')\n",
            "('2008-07-31T22:08:08.620', 'css')\n",
            "('2008-07-31T22:08:08.620', 'internet-explorer-7')\n",
            "('2008-07-31T23:40:59.743', 'c#')\n",
            "('2008-07-31T23:40:59.743', '.net')\n"
          ]
        }
      ],
      "source": [
        "import xml.etree.ElementTree as ET\n",
        "\n",
        "xml_path = 'posts_sample.xml'\n",
        "\n",
        "# Парсинг XML и получение корневого элемента\n",
        "tree = ET.parse(xml_path)\n",
        "root_elem = tree.getroot()\n",
        "\n",
        "# Формируем список кортежей (creation_date, tag)\n",
        "records = [\n",
        "    (creation_date, tag)\n",
        "    for row in root_elem.findall('row')\n",
        "    if (creation_date := row.attrib.get('CreationDate')) and (tags_str := row.attrib.get('Tags'))\n",
        "    for tag in tags_str.replace('<', '').replace('>', ' ').strip().split()\n",
        "]\n",
        "\n",
        "for record in records[:10]:\n",
        "    print(record)\n"
      ]
    },
    {
      "cell_type": "code",
      "execution_count": 58,
      "metadata": {
        "colab": {
          "base_uri": "https://localhost:8080/"
        },
        "id": "aqXTOq-TMwMq",
        "outputId": "2275e47e-0d9c-40c3-979f-ea1e465a05d1"
      },
      "outputs": [
        {
          "output_type": "stream",
          "name": "stdout",
          "text": [
            "+--------------------+-------------------+----+\n",
            "|        CreationDate|                Tag|Year|\n",
            "+--------------------+-------------------+----+\n",
            "|2008-07-31T21:42:...|                 c#|2008|\n",
            "|2008-07-31T21:42:...|     floating-point|2008|\n",
            "|2008-07-31T21:42:...|    type-conversion|2008|\n",
            "|2008-07-31T21:42:...|             double|2008|\n",
            "|2008-07-31T21:42:...|            decimal|2008|\n",
            "|2008-07-31T22:08:...|               html|2008|\n",
            "|2008-07-31T22:08:...|                css|2008|\n",
            "|2008-07-31T22:08:...|internet-explorer-7|2008|\n",
            "|2008-07-31T23:40:...|                 c#|2008|\n",
            "|2008-07-31T23:40:...|               .net|2008|\n",
            "+--------------------+-------------------+----+\n",
            "only showing top 10 rows\n",
            "\n"
          ]
        }
      ],
      "source": [
        "from pyspark.sql.types import StructType, StructField, StringType\n",
        "from pyspark.sql.functions import col, year, to_timestamp\n",
        "\n",
        "# Определяем схему для DataFrame с данными постов\n",
        "posts_schema = StructType([\n",
        "    StructField(\"CreationDate\", StringType(), True),\n",
        "    StructField(\"Tag\", StringType(), True)\n",
        "])\n",
        "\n",
        "# Создаем DataFrame из списка posts_data\n",
        "posts_df = spark.createDataFrame(records, schema=posts_schema)\n",
        "posts_df = posts_df.withColumn(\"Year\", year(to_timestamp(col(\"CreationDate\"))))\n",
        "\n",
        "try:\n",
        "    posts_df.show(10)\n",
        "except Exception as err:\n",
        "    print(\"Ошибка при отображении DataFrame:\")\n",
        "    print(err)\n"
      ]
    },
    {
      "cell_type": "code",
      "source": [
        "# Загружаем CSV-файл с данными о языках программирования\n",
        "languages_df = spark.read.csv(\"programming-languages.csv\", header=True)\n",
        "\n",
        "# Приводим названия языков к нижнему регистру для единообразного сравнения\n",
        "languages_df = languages_df.withColumn(\"name\", lower(col(\"name\")))\n",
        "\n",
        "# Приводим теги в DataFrame постов к нижнему регистру для корректного сопоставления\n",
        "posts_df = posts_df.withColumn(\"Tag\", lower(col(\"Tag\")))\n",
        "\n",
        "# Фильтруем посты: выбираем записи, у которых тег совпадает с названием языка\n",
        "filtered_posts_df = posts_df.join(languages_df, posts_df.Tag == languages_df.name, \"inner\")\n",
        "\n",
        "# Группируем данные и считаем количество упоминаний каждого языка по годам\n",
        "language_mentions_by_year = filtered_posts_df.groupBy(\"Year\", \"Tag\") \\\n",
        "    .agg(F.count(\"*\").alias(\"Mentions\"))\n",
        "\n",
        "# Определяем окно для ранжирования языков по количеству упоминаний в каждом году\n",
        "yearly_ranking_window = Window.partitionBy(\"Year\").orderBy(F.col(\"Mentions\").desc())\n",
        "\n",
        "# Добавляем колонку с рангом, выбираем топ-10 языков для каждого года и сортируем результат\n",
        "top_languages_by_year = language_mentions_by_year.withColumn(\"Rank\", F.row_number().over(yearly_ranking_window)) \\\n",
        "    .filter(F.col(\"Rank\") <= 10) \\\n",
        "    .orderBy(\"Year\", \"Rank\")\n",
        "\n",
        "top_languages_by_year.show(20)\n"
      ],
      "metadata": {
        "colab": {
          "base_uri": "https://localhost:8080/"
        },
        "id": "DIJitk9xPBoY",
        "outputId": "13ba6f4d-2607-476f-c134-219c07ea66d1"
      },
      "execution_count": 59,
      "outputs": [
        {
          "output_type": "stream",
          "name": "stdout",
          "text": [
            "+----+-----------+--------+----+\n",
            "|Year|        Tag|Mentions|Rank|\n",
            "+----+-----------+--------+----+\n",
            "|2010|        php|       9|   1|\n",
            "|2010|       java|       8|   2|\n",
            "|2010| javascript|       5|   3|\n",
            "|2010|          c|       5|   4|\n",
            "|2010|objective-c|       4|   5|\n",
            "|2010|       ruby|       4|   6|\n",
            "|2010|     python|       3|   7|\n",
            "|2010|applescript|       1|   8|\n",
            "|2010|          r|       1|   9|\n",
            "|2010|        sed|       1|  10|\n",
            "|2011|       java|      25|   1|\n",
            "|2011|        php|      20|   2|\n",
            "|2011| javascript|      14|   3|\n",
            "|2011|          c|       9|   4|\n",
            "|2011|objective-c|       6|   5|\n",
            "|2011|       ruby|       5|   6|\n",
            "|2011|     python|       5|   7|\n",
            "|2011| coldfusion|       3|   8|\n",
            "|2011|       perl|       3|   9|\n",
            "|2011|     delphi|       2|  10|\n",
            "+----+-----------+--------+----+\n",
            "only showing top 20 rows\n",
            "\n"
          ]
        }
      ]
    },
    {
      "cell_type": "code",
      "source": [
        "# Сохранение итогового DataFrame с топ-языками в формате Parquet (режим перезаписи)\n",
        "top_languages_by_year.write.mode(\"overwrite\").parquet(\"top_languages.parquet\")\n",
        "\n",
        "# Архивация директории с Parquet-файлами в zip-архив\n",
        "!zip -r top_languages.zip top_languages.parquet\n",
        "\n",
        "# Скачивание созданного архива (Google Colab)\n",
        "files.download(\"top_languages.zip\")\n",
        "\n",
        "# Загрузка сохранённого Parquet-файла обратно в DataFrame для проверки\n",
        "loaded_languages_df = spark.read.parquet(\"top_languages.parquet\")\n",
        "\n",
        "loaded_languages_df.show(truncate=False, n=500)"
      ],
      "metadata": {
        "colab": {
          "base_uri": "https://localhost:8080/",
          "height": 1000
        },
        "id": "WI8e97uNPOFg",
        "outputId": "e47d7a2b-fe5e-45a9-eb04-f7a932b70a32"
      },
      "execution_count": 60,
      "outputs": [
        {
          "output_type": "stream",
          "name": "stdout",
          "text": [
            "updating: top_languages.parquet/ (stored 0%)\n",
            "updating: top_languages.parquet/._SUCCESS.crc (stored 0%)\n",
            "updating: top_languages.parquet/_SUCCESS (stored 0%)\n",
            "  adding: top_languages.parquet/.part-00000-2342d828-177f-4092-9471-3c155f0e6358-c000.snappy.parquet.crc (stored 0%)\n",
            "  adding: top_languages.parquet/part-00000-2342d828-177f-4092-9471-3c155f0e6358-c000.snappy.parquet (deflated 36%)\n"
          ]
        },
        {
          "output_type": "display_data",
          "data": {
            "text/plain": [
              "<IPython.core.display.Javascript object>"
            ],
            "application/javascript": [
              "\n",
              "    async function download(id, filename, size) {\n",
              "      if (!google.colab.kernel.accessAllowed) {\n",
              "        return;\n",
              "      }\n",
              "      const div = document.createElement('div');\n",
              "      const label = document.createElement('label');\n",
              "      label.textContent = `Downloading \"${filename}\": `;\n",
              "      div.appendChild(label);\n",
              "      const progress = document.createElement('progress');\n",
              "      progress.max = size;\n",
              "      div.appendChild(progress);\n",
              "      document.body.appendChild(div);\n",
              "\n",
              "      const buffers = [];\n",
              "      let downloaded = 0;\n",
              "\n",
              "      const channel = await google.colab.kernel.comms.open(id);\n",
              "      // Send a message to notify the kernel that we're ready.\n",
              "      channel.send({})\n",
              "\n",
              "      for await (const message of channel.messages) {\n",
              "        // Send a message to notify the kernel that we're ready.\n",
              "        channel.send({})\n",
              "        if (message.buffers) {\n",
              "          for (const buffer of message.buffers) {\n",
              "            buffers.push(buffer);\n",
              "            downloaded += buffer.byteLength;\n",
              "            progress.value = downloaded;\n",
              "          }\n",
              "        }\n",
              "      }\n",
              "      const blob = new Blob(buffers, {type: 'application/binary'});\n",
              "      const a = document.createElement('a');\n",
              "      a.href = window.URL.createObjectURL(blob);\n",
              "      a.download = filename;\n",
              "      div.appendChild(a);\n",
              "      a.click();\n",
              "      div.remove();\n",
              "    }\n",
              "  "
            ]
          },
          "metadata": {}
        },
        {
          "output_type": "display_data",
          "data": {
            "text/plain": [
              "<IPython.core.display.Javascript object>"
            ],
            "application/javascript": [
              "download(\"download_09a4150e-32db-48b5-b0db-0b89d78c6aea\", \"top_languages.zip\", 6180)"
            ]
          },
          "metadata": {}
        },
        {
          "output_type": "stream",
          "name": "stdout",
          "text": [
            "+----+-----------+--------+----+\n",
            "|Year|Tag        |Mentions|Rank|\n",
            "+----+-----------+--------+----+\n",
            "|2010|php        |9       |1   |\n",
            "|2010|java       |8       |2   |\n",
            "|2010|javascript |5       |3   |\n",
            "|2010|c          |5       |4   |\n",
            "|2010|objective-c|4       |5   |\n",
            "|2010|ruby       |4       |6   |\n",
            "|2010|python     |3       |7   |\n",
            "|2010|applescript|1       |8   |\n",
            "|2010|r          |1       |9   |\n",
            "|2010|sed        |1       |10  |\n",
            "|2011|java       |25      |1   |\n",
            "|2011|php        |20      |2   |\n",
            "|2011|javascript |14      |3   |\n",
            "|2011|c          |9       |4   |\n",
            "|2011|objective-c|6       |5   |\n",
            "|2011|ruby       |5       |6   |\n",
            "|2011|python     |5       |7   |\n",
            "|2011|coldfusion |3       |8   |\n",
            "|2011|perl       |3       |9   |\n",
            "|2011|delphi     |2       |10  |\n",
            "|2012|javascript |18      |1   |\n",
            "|2012|java       |16      |2   |\n",
            "|2012|php        |13      |3   |\n",
            "|2012|python     |7       |4   |\n",
            "|2012|ruby       |7       |5   |\n",
            "|2012|objective-c|5       |6   |\n",
            "|2012|c          |4       |7   |\n",
            "|2012|haskell    |2       |8   |\n",
            "|2012|matlab     |1       |9   |\n",
            "|2012|powershell |1       |10  |\n",
            "|2013|javascript |38      |1   |\n",
            "|2013|php        |34      |2   |\n",
            "|2013|java       |31      |3   |\n",
            "|2013|python     |13      |4   |\n",
            "|2013|ruby       |10      |5   |\n",
            "|2013|objective-c|9       |6   |\n",
            "|2013|c          |4       |7   |\n",
            "|2013|chef       |2       |8   |\n",
            "|2013|scala      |2       |9   |\n",
            "|2013|haskell    |2       |10  |\n",
            "|2014|javascript |32      |1   |\n",
            "|2014|java       |26      |2   |\n",
            "|2014|php        |19      |3   |\n",
            "|2014|python     |13      |4   |\n",
            "|2014|objective-c|9       |5   |\n",
            "|2014|ruby       |6       |6   |\n",
            "|2014|c          |6       |7   |\n",
            "|2014|bash       |5       |8   |\n",
            "|2014|delphi     |2       |9   |\n",
            "|2014|awk        |2       |10  |\n",
            "|2015|javascript |17      |1   |\n",
            "|2015|php        |12      |2   |\n",
            "|2015|java       |9       |3   |\n",
            "|2015|python     |4       |4   |\n",
            "|2015|c          |2       |5   |\n",
            "|2015|objective-c|2       |6   |\n",
            "|2015|bash       |1       |7   |\n",
            "|2015|opencl     |1       |8   |\n",
            "|2015|scala      |1       |9   |\n",
            "|2015|glsl       |1       |10  |\n",
            "|2016|javascript |35      |1   |\n",
            "|2016|python     |24      |2   |\n",
            "|2016|java       |20      |3   |\n",
            "|2016|php        |18      |4   |\n",
            "|2016|r          |7       |5   |\n",
            "|2016|matlab     |3       |6   |\n",
            "|2016|scala      |3       |7   |\n",
            "|2016|c          |3       |8   |\n",
            "|2016|bash       |2       |9   |\n",
            "|2016|powershell |2       |10  |\n",
            "|2017|javascript |15      |1   |\n",
            "|2017|python     |13      |2   |\n",
            "|2017|php        |7       |3   |\n",
            "|2017|r          |7       |4   |\n",
            "|2017|java       |5       |5   |\n",
            "|2017|ruby       |2       |6   |\n",
            "|2017|c          |2       |7   |\n",
            "|2017|delphi     |1       |8   |\n",
            "|2017|powershell |1       |9   |\n",
            "|2017|f#         |1       |10  |\n",
            "|2018|javascript |14      |1   |\n",
            "|2018|python     |12      |2   |\n",
            "|2018|java       |11      |3   |\n",
            "|2018|php        |7       |4   |\n",
            "|2018|go         |2       |5   |\n",
            "|2018|scala      |1       |6   |\n",
            "|2018|matlab     |1       |7   |\n",
            "|2018|typescript |1       |8   |\n",
            "|2018|kotlin     |1       |9   |\n",
            "|2018|r          |1       |10  |\n",
            "|2019|javascript |8       |1   |\n",
            "|2019|python     |7       |2   |\n",
            "|2019|php        |6       |3   |\n",
            "|2019|java       |6       |4   |\n",
            "|2019|c          |3       |5   |\n",
            "|2019|matlab     |2       |6   |\n",
            "|2019|go         |1       |7   |\n",
            "|2019|r          |1       |8   |\n",
            "|2019|curl       |1       |9   |\n",
            "|2019|scala      |1       |10  |\n",
            "+----+-----------+--------+----+\n",
            "\n"
          ]
        }
      ]
    }
  ],
  "metadata": {
    "colab": {
      "provenance": []
    },
    "kernelspec": {
      "display_name": "Python 3",
      "language": "python",
      "name": "python3"
    },
    "language_info": {
      "codemirror_mode": {
        "name": "ipython",
        "version": 3
      },
      "file_extension": ".py",
      "mimetype": "text/x-python",
      "name": "python",
      "nbconvert_exporter": "python",
      "pygments_lexer": "ipython3",
      "version": "3.12.3"
    }
  },
  "nbformat": 4,
  "nbformat_minor": 0
}