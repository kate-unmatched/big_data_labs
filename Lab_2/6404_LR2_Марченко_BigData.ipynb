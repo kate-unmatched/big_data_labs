{
 "cells": [
  {
   "cell_type": "markdown",
   "metadata": {
    "id": "82OvPKEiEqjc"
   },
   "source": [
    "# Лабораторная 2. Формирование отчётов в Apache Spark\n",
    "\n",
    "## Задание\n",
    "\n",
    "Сформировать отчёт с информацией о 10 наиболее популярных языках программирования по итогам года за период с 2010 по 2020 годы. Отчёт будет отражать динамику изменения популярности языков программирования и представлять собой набор таблиц \"топ-10\" для каждого года.\n",
    "\n",
    "Получившийся отчёт сохранить в формате Apache Parquet.\n",
    "\n",
    "Для выполнения задания вы можете использовать любую комбинацию Spark API: RDD API, Dataset API, SQL API.\n"
   ]
  },
  {
   "cell_type": "code",
   "execution_count": 5,
   "metadata": {
    "ExecuteTime": {
     "end_time": "2024-03-20T20:55:54.676449Z",
     "start_time": "2024-03-20T20:55:54.661448Z"
    },
    "id": "JQ2cvXLjICmI"
   },
   "outputs": [],
   "source": [
    "from pyspark.sql import SparkSession\n",
    "from pyspark.sql.functions import col, rank\n",
    "from pyspark.sql.window import Window"
   ]
  },
  {
   "cell_type": "code",
   "execution_count": null,
   "metadata": {
    "ExecuteTime": {
     "end_time": "2024-03-20T20:55:55.185985Z",
     "start_time": "2024-03-20T20:55:55.177988Z"
    },
    "id": "yjPHumVwEyEg"
   },
   "outputs": [
    {
     "name": "stdout",
     "output_type": "stream",
     "text": [
      "('2008-07-31T21:42:52.667', 'c#')\n",
      "('2008-07-31T21:42:52.667', 'floating-point')\n",
      "('2008-07-31T21:42:52.667', 'type-conversion')\n",
      "('2008-07-31T21:42:52.667', 'double')\n",
      "('2008-07-31T21:42:52.667', 'decimal')\n",
      "('2008-07-31T22:08:08.620', 'html')\n",
      "('2008-07-31T22:08:08.620', 'css')\n",
      "('2008-07-31T22:08:08.620', 'internet-explorer-7')\n",
      "('2008-07-31T23:40:59.743', 'c#')\n",
      "('2008-07-31T23:40:59.743', '.net')\n"
     ]
    },
    {
     "ename": "",
     "evalue": "",
     "output_type": "error",
     "traceback": [
      "\u001b[1;31mThe Kernel crashed while executing code in the current cell or a previous cell. \n",
      "\u001b[1;31mPlease review the code in the cell(s) to identify a possible cause of the failure. \n",
      "\u001b[1;31mClick <a href='https://aka.ms/vscodeJupyterKernelCrash'>here</a> for more info. \n",
      "\u001b[1;31mView Jupyter <a href='command:jupyter.viewOutput'>log</a> for further details."
     ]
    }
   ],
   "source": [
    "import xml.etree.ElementTree as ET\n",
    "\n",
    "# Путь к XML-файлу\n",
    "xml_path = 'posts_sample.xml'\n",
    "\n",
    "# Парсинг XML и получение корневого элемента\n",
    "tree = ET.parse(xml_path)\n",
    "root_elem = tree.getroot()\n",
    "\n",
    "# Формируем список кортежей (creation_date, tag) с использованием list comprehension и оператора присваивания\n",
    "records = [\n",
    "    (creation_date, tag)\n",
    "    for row in root_elem.findall('row')\n",
    "    if (creation_date := row.attrib.get('CreationDate')) and (tags_str := row.attrib.get('Tags'))\n",
    "    for tag in tags_str.replace('<', '').replace('>', ' ').strip().split()\n",
    "]\n",
    "\n",
    "for record in records[:10]:\n",
    "    print(record)\n"
   ]
  }
 ],
 "metadata": {
  "colab": {
   "provenance": []
  },
  "kernelspec": {
   "display_name": "Python 3",
   "language": "python",
   "name": "python3"
  },
  "language_info": {
   "codemirror_mode": {
    "name": "ipython",
    "version": 3
   },
   "file_extension": ".py",
   "mimetype": "text/x-python",
   "name": "python",
   "nbconvert_exporter": "python",
   "pygments_lexer": "ipython3",
   "version": "3.12.3"
  }
 },
 "nbformat": 4,
 "nbformat_minor": 0
}
